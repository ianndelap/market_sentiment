{
 "cells": [
  {
   "cell_type": "code",
   "execution_count": 1,
   "id": "73173097",
   "metadata": {},
   "outputs": [],
   "source": [
    "import pandas as pd\n",
    "import matplotlib.pyplot as plt\n",
    "from scipy import stats\n",
    "import seaborn as sns\n",
    "import tensorflow_hub as hub\n",
    "import numpy as np\n",
    "import tensorflow_text\n",
    "import datetime as dt\n",
    "import datetime\n",
    "from datetime import datetime\n"
   ]
  },
  {
   "cell_type": "code",
   "execution_count": null,
   "id": "5a368aa3",
   "metadata": {},
   "outputs": [],
   "source": []
  },
  {
   "cell_type": "code",
   "execution_count": 3,
   "id": "43748397",
   "metadata": {
    "scrolled": true
   },
   "outputs": [
    {
     "name": "stderr",
     "output_type": "stream",
     "text": [
      "/Users/ianndelap/.pyenv/versions/3.8.6/envs/market_sentiment/lib/python3.8/site-packages/IPython/core/interactiveshell.py:3441: DtypeWarning: Columns (2) have mixed types.Specify dtype option on import or set low_memory=False.\n",
      "  exec(code_obj, self.user_global_ns, self.user_ns)\n"
     ]
    }
   ],
   "source": [
    "vector_df = pd.read_csv('../raw_data/quarter.csv',names=['index', 'date', 'is_btc', 'is_intc', 'is_ge', 'is_bynb', 'full_text'] + [str(i) for i in range(512)])"
   ]
  },
  {
   "cell_type": "code",
   "execution_count": null,
   "id": "30e0faf1",
   "metadata": {},
   "outputs": [],
   "source": []
  },
  {
   "cell_type": "code",
   "execution_count": 13,
   "id": "4145a927",
   "metadata": {},
   "outputs": [
    {
     "ename": "KeyError",
     "evalue": "\"None of ['date'] are in the columns\"",
     "output_type": "error",
     "traceback": [
      "\u001b[0;31m---------------------------------------------------------------------------\u001b[0m",
      "\u001b[0;31mKeyError\u001b[0m                                  Traceback (most recent call last)",
      "\u001b[0;32m/var/folders/99/ckqc944s1nl57yz05vhcmt6w0000gn/T/ipykernel_1874/3789458855.py\u001b[0m in \u001b[0;36m<module>\u001b[0;34m\u001b[0m\n\u001b[0;32m----> 1\u001b[0;31m \u001b[0mvector_df\u001b[0m \u001b[0;34m=\u001b[0m \u001b[0mvector_df\u001b[0m\u001b[0;34m.\u001b[0m\u001b[0mset_index\u001b[0m\u001b[0;34m(\u001b[0m\u001b[0;34m'date'\u001b[0m\u001b[0;34m)\u001b[0m\u001b[0;34m\u001b[0m\u001b[0;34m\u001b[0m\u001b[0m\n\u001b[0m",
      "\u001b[0;32m~/.pyenv/versions/3.8.6/envs/market_sentiment/lib/python3.8/site-packages/pandas/util/_decorators.py\u001b[0m in \u001b[0;36mwrapper\u001b[0;34m(*args, **kwargs)\u001b[0m\n\u001b[1;32m    309\u001b[0m                     \u001b[0mstacklevel\u001b[0m\u001b[0;34m=\u001b[0m\u001b[0mstacklevel\u001b[0m\u001b[0;34m,\u001b[0m\u001b[0;34m\u001b[0m\u001b[0;34m\u001b[0m\u001b[0m\n\u001b[1;32m    310\u001b[0m                 )\n\u001b[0;32m--> 311\u001b[0;31m             \u001b[0;32mreturn\u001b[0m \u001b[0mfunc\u001b[0m\u001b[0;34m(\u001b[0m\u001b[0;34m*\u001b[0m\u001b[0margs\u001b[0m\u001b[0;34m,\u001b[0m \u001b[0;34m**\u001b[0m\u001b[0mkwargs\u001b[0m\u001b[0;34m)\u001b[0m\u001b[0;34m\u001b[0m\u001b[0;34m\u001b[0m\u001b[0m\n\u001b[0m\u001b[1;32m    312\u001b[0m \u001b[0;34m\u001b[0m\u001b[0m\n\u001b[1;32m    313\u001b[0m         \u001b[0;32mreturn\u001b[0m \u001b[0mwrapper\u001b[0m\u001b[0;34m\u001b[0m\u001b[0;34m\u001b[0m\u001b[0m\n",
      "\u001b[0;32m~/.pyenv/versions/3.8.6/envs/market_sentiment/lib/python3.8/site-packages/pandas/core/frame.py\u001b[0m in \u001b[0;36mset_index\u001b[0;34m(self, keys, drop, append, inplace, verify_integrity)\u001b[0m\n\u001b[1;32m   5444\u001b[0m \u001b[0;34m\u001b[0m\u001b[0m\n\u001b[1;32m   5445\u001b[0m         \u001b[0;32mif\u001b[0m \u001b[0mmissing\u001b[0m\u001b[0;34m:\u001b[0m\u001b[0;34m\u001b[0m\u001b[0;34m\u001b[0m\u001b[0m\n\u001b[0;32m-> 5446\u001b[0;31m             \u001b[0;32mraise\u001b[0m \u001b[0mKeyError\u001b[0m\u001b[0;34m(\u001b[0m\u001b[0;34mf\"None of {missing} are in the columns\"\u001b[0m\u001b[0;34m)\u001b[0m\u001b[0;34m\u001b[0m\u001b[0;34m\u001b[0m\u001b[0m\n\u001b[0m\u001b[1;32m   5447\u001b[0m \u001b[0;34m\u001b[0m\u001b[0m\n\u001b[1;32m   5448\u001b[0m         \u001b[0;32mif\u001b[0m \u001b[0minplace\u001b[0m\u001b[0;34m:\u001b[0m\u001b[0;34m\u001b[0m\u001b[0;34m\u001b[0m\u001b[0m\n",
      "\u001b[0;31mKeyError\u001b[0m: \"None of ['date'] are in the columns\""
     ]
    }
   ],
   "source": [
    "vector_df = vector_df.set_index('date')"
   ]
  },
  {
   "cell_type": "code",
   "execution_count": 5,
   "id": "bf2777a4",
   "metadata": {},
   "outputs": [],
   "source": [
    "vector_df = vector_df.sort_index(ascending=True)"
   ]
  },
  {
   "cell_type": "code",
   "execution_count": null,
   "id": "0b6a8cde",
   "metadata": {},
   "outputs": [],
   "source": []
  },
  {
   "cell_type": "code",
   "execution_count": 6,
   "id": "58135f5e",
   "metadata": {},
   "outputs": [],
   "source": [
    "def replacen(x):\n",
    "    return x.replace('+0000','')"
   ]
  },
  {
   "cell_type": "code",
   "execution_count": 7,
   "id": "71db78e3",
   "metadata": {},
   "outputs": [],
   "source": [
    "def replacet(x):\n",
    "    return x.replace('\\n','')"
   ]
  },
  {
   "cell_type": "code",
   "execution_count": 8,
   "id": "8f9bce51",
   "metadata": {},
   "outputs": [],
   "source": [
    "def replacequo(x):\n",
    "    return x.replace('\"','')"
   ]
  },
  {
   "cell_type": "code",
   "execution_count": 9,
   "id": "79fe6a00",
   "metadata": {},
   "outputs": [],
   "source": [
    "def replacestr(x):\n",
    "    return x.strip()"
   ]
  },
  {
   "cell_type": "code",
   "execution_count": 11,
   "id": "4beb3bd9",
   "metadata": {},
   "outputs": [
    {
     "ename": "KeyError",
     "evalue": "'date'",
     "output_type": "error",
     "traceback": [
      "\u001b[0;31m---------------------------------------------------------------------------\u001b[0m",
      "\u001b[0;31mKeyError\u001b[0m                                  Traceback (most recent call last)",
      "\u001b[0;32m~/.pyenv/versions/3.8.6/envs/market_sentiment/lib/python3.8/site-packages/pandas/core/indexes/base.py\u001b[0m in \u001b[0;36mget_loc\u001b[0;34m(self, key, method, tolerance)\u001b[0m\n\u001b[1;32m   3360\u001b[0m             \u001b[0;32mtry\u001b[0m\u001b[0;34m:\u001b[0m\u001b[0;34m\u001b[0m\u001b[0;34m\u001b[0m\u001b[0m\n\u001b[0;32m-> 3361\u001b[0;31m                 \u001b[0;32mreturn\u001b[0m \u001b[0mself\u001b[0m\u001b[0;34m.\u001b[0m\u001b[0m_engine\u001b[0m\u001b[0;34m.\u001b[0m\u001b[0mget_loc\u001b[0m\u001b[0;34m(\u001b[0m\u001b[0mcasted_key\u001b[0m\u001b[0;34m)\u001b[0m\u001b[0;34m\u001b[0m\u001b[0;34m\u001b[0m\u001b[0m\n\u001b[0m\u001b[1;32m   3362\u001b[0m             \u001b[0;32mexcept\u001b[0m \u001b[0mKeyError\u001b[0m \u001b[0;32mas\u001b[0m \u001b[0merr\u001b[0m\u001b[0;34m:\u001b[0m\u001b[0;34m\u001b[0m\u001b[0;34m\u001b[0m\u001b[0m\n",
      "\u001b[0;32m~/.pyenv/versions/3.8.6/envs/market_sentiment/lib/python3.8/site-packages/pandas/_libs/index.pyx\u001b[0m in \u001b[0;36mpandas._libs.index.IndexEngine.get_loc\u001b[0;34m()\u001b[0m\n",
      "\u001b[0;32m~/.pyenv/versions/3.8.6/envs/market_sentiment/lib/python3.8/site-packages/pandas/_libs/index.pyx\u001b[0m in \u001b[0;36mpandas._libs.index.IndexEngine.get_loc\u001b[0;34m()\u001b[0m\n",
      "\u001b[0;32mpandas/_libs/hashtable_class_helper.pxi\u001b[0m in \u001b[0;36mpandas._libs.hashtable.PyObjectHashTable.get_item\u001b[0;34m()\u001b[0m\n",
      "\u001b[0;32mpandas/_libs/hashtable_class_helper.pxi\u001b[0m in \u001b[0;36mpandas._libs.hashtable.PyObjectHashTable.get_item\u001b[0;34m()\u001b[0m\n",
      "\u001b[0;31mKeyError\u001b[0m: 'date'",
      "\nThe above exception was the direct cause of the following exception:\n",
      "\u001b[0;31mKeyError\u001b[0m                                  Traceback (most recent call last)",
      "\u001b[0;32m/var/folders/99/ckqc944s1nl57yz05vhcmt6w0000gn/T/ipykernel_1874/2797589444.py\u001b[0m in \u001b[0;36m<module>\u001b[0;34m\u001b[0m\n\u001b[0;32m----> 1\u001b[0;31m \u001b[0mvector_df\u001b[0m\u001b[0;34m[\u001b[0m\u001b[0;34m'date'\u001b[0m\u001b[0;34m]\u001b[0m\u001b[0;34m=\u001b[0m \u001b[0mvector_df\u001b[0m\u001b[0;34m[\u001b[0m\u001b[0;34m'date'\u001b[0m\u001b[0;34m]\u001b[0m\u001b[0;34m.\u001b[0m\u001b[0mapply\u001b[0m\u001b[0;34m(\u001b[0m\u001b[0mreplacen\u001b[0m\u001b[0;34m)\u001b[0m\u001b[0;34m\u001b[0m\u001b[0;34m\u001b[0m\u001b[0m\n\u001b[0m",
      "\u001b[0;32m~/.pyenv/versions/3.8.6/envs/market_sentiment/lib/python3.8/site-packages/pandas/core/frame.py\u001b[0m in \u001b[0;36m__getitem__\u001b[0;34m(self, key)\u001b[0m\n\u001b[1;32m   3453\u001b[0m             \u001b[0;32mif\u001b[0m \u001b[0mself\u001b[0m\u001b[0;34m.\u001b[0m\u001b[0mcolumns\u001b[0m\u001b[0;34m.\u001b[0m\u001b[0mnlevels\u001b[0m \u001b[0;34m>\u001b[0m \u001b[0;36m1\u001b[0m\u001b[0;34m:\u001b[0m\u001b[0;34m\u001b[0m\u001b[0;34m\u001b[0m\u001b[0m\n\u001b[1;32m   3454\u001b[0m                 \u001b[0;32mreturn\u001b[0m \u001b[0mself\u001b[0m\u001b[0;34m.\u001b[0m\u001b[0m_getitem_multilevel\u001b[0m\u001b[0;34m(\u001b[0m\u001b[0mkey\u001b[0m\u001b[0;34m)\u001b[0m\u001b[0;34m\u001b[0m\u001b[0;34m\u001b[0m\u001b[0m\n\u001b[0;32m-> 3455\u001b[0;31m             \u001b[0mindexer\u001b[0m \u001b[0;34m=\u001b[0m \u001b[0mself\u001b[0m\u001b[0;34m.\u001b[0m\u001b[0mcolumns\u001b[0m\u001b[0;34m.\u001b[0m\u001b[0mget_loc\u001b[0m\u001b[0;34m(\u001b[0m\u001b[0mkey\u001b[0m\u001b[0;34m)\u001b[0m\u001b[0;34m\u001b[0m\u001b[0;34m\u001b[0m\u001b[0m\n\u001b[0m\u001b[1;32m   3456\u001b[0m             \u001b[0;32mif\u001b[0m \u001b[0mis_integer\u001b[0m\u001b[0;34m(\u001b[0m\u001b[0mindexer\u001b[0m\u001b[0;34m)\u001b[0m\u001b[0;34m:\u001b[0m\u001b[0;34m\u001b[0m\u001b[0;34m\u001b[0m\u001b[0m\n\u001b[1;32m   3457\u001b[0m                 \u001b[0mindexer\u001b[0m \u001b[0;34m=\u001b[0m \u001b[0;34m[\u001b[0m\u001b[0mindexer\u001b[0m\u001b[0;34m]\u001b[0m\u001b[0;34m\u001b[0m\u001b[0;34m\u001b[0m\u001b[0m\n",
      "\u001b[0;32m~/.pyenv/versions/3.8.6/envs/market_sentiment/lib/python3.8/site-packages/pandas/core/indexes/base.py\u001b[0m in \u001b[0;36mget_loc\u001b[0;34m(self, key, method, tolerance)\u001b[0m\n\u001b[1;32m   3361\u001b[0m                 \u001b[0;32mreturn\u001b[0m \u001b[0mself\u001b[0m\u001b[0;34m.\u001b[0m\u001b[0m_engine\u001b[0m\u001b[0;34m.\u001b[0m\u001b[0mget_loc\u001b[0m\u001b[0;34m(\u001b[0m\u001b[0mcasted_key\u001b[0m\u001b[0;34m)\u001b[0m\u001b[0;34m\u001b[0m\u001b[0;34m\u001b[0m\u001b[0m\n\u001b[1;32m   3362\u001b[0m             \u001b[0;32mexcept\u001b[0m \u001b[0mKeyError\u001b[0m \u001b[0;32mas\u001b[0m \u001b[0merr\u001b[0m\u001b[0;34m:\u001b[0m\u001b[0;34m\u001b[0m\u001b[0;34m\u001b[0m\u001b[0m\n\u001b[0;32m-> 3363\u001b[0;31m                 \u001b[0;32mraise\u001b[0m \u001b[0mKeyError\u001b[0m\u001b[0;34m(\u001b[0m\u001b[0mkey\u001b[0m\u001b[0;34m)\u001b[0m \u001b[0;32mfrom\u001b[0m \u001b[0merr\u001b[0m\u001b[0;34m\u001b[0m\u001b[0;34m\u001b[0m\u001b[0m\n\u001b[0m\u001b[1;32m   3364\u001b[0m \u001b[0;34m\u001b[0m\u001b[0m\n\u001b[1;32m   3365\u001b[0m         \u001b[0;32mif\u001b[0m \u001b[0mis_scalar\u001b[0m\u001b[0;34m(\u001b[0m\u001b[0mkey\u001b[0m\u001b[0;34m)\u001b[0m \u001b[0;32mand\u001b[0m \u001b[0misna\u001b[0m\u001b[0;34m(\u001b[0m\u001b[0mkey\u001b[0m\u001b[0;34m)\u001b[0m \u001b[0;32mand\u001b[0m \u001b[0;32mnot\u001b[0m \u001b[0mself\u001b[0m\u001b[0;34m.\u001b[0m\u001b[0mhasnans\u001b[0m\u001b[0;34m:\u001b[0m\u001b[0;34m\u001b[0m\u001b[0;34m\u001b[0m\u001b[0m\n",
      "\u001b[0;31mKeyError\u001b[0m: 'date'"
     ]
    }
   ],
   "source": [
    "vector_df['date']= vector_df['date'].apply(replacen)"
   ]
  },
  {
   "cell_type": "code",
   "execution_count": 12,
   "id": "023d54b8",
   "metadata": {},
   "outputs": [
    {
     "ename": "KeyError",
     "evalue": "'date'",
     "output_type": "error",
     "traceback": [
      "\u001b[0;31m---------------------------------------------------------------------------\u001b[0m",
      "\u001b[0;31mKeyError\u001b[0m                                  Traceback (most recent call last)",
      "\u001b[0;32m~/.pyenv/versions/3.8.6/envs/market_sentiment/lib/python3.8/site-packages/pandas/core/indexes/base.py\u001b[0m in \u001b[0;36mget_loc\u001b[0;34m(self, key, method, tolerance)\u001b[0m\n\u001b[1;32m   3360\u001b[0m             \u001b[0;32mtry\u001b[0m\u001b[0;34m:\u001b[0m\u001b[0;34m\u001b[0m\u001b[0;34m\u001b[0m\u001b[0m\n\u001b[0;32m-> 3361\u001b[0;31m                 \u001b[0;32mreturn\u001b[0m \u001b[0mself\u001b[0m\u001b[0;34m.\u001b[0m\u001b[0m_engine\u001b[0m\u001b[0;34m.\u001b[0m\u001b[0mget_loc\u001b[0m\u001b[0;34m(\u001b[0m\u001b[0mcasted_key\u001b[0m\u001b[0;34m)\u001b[0m\u001b[0;34m\u001b[0m\u001b[0;34m\u001b[0m\u001b[0m\n\u001b[0m\u001b[1;32m   3362\u001b[0m             \u001b[0;32mexcept\u001b[0m \u001b[0mKeyError\u001b[0m \u001b[0;32mas\u001b[0m \u001b[0merr\u001b[0m\u001b[0;34m:\u001b[0m\u001b[0;34m\u001b[0m\u001b[0;34m\u001b[0m\u001b[0m\n",
      "\u001b[0;32m~/.pyenv/versions/3.8.6/envs/market_sentiment/lib/python3.8/site-packages/pandas/_libs/index.pyx\u001b[0m in \u001b[0;36mpandas._libs.index.IndexEngine.get_loc\u001b[0;34m()\u001b[0m\n",
      "\u001b[0;32m~/.pyenv/versions/3.8.6/envs/market_sentiment/lib/python3.8/site-packages/pandas/_libs/index.pyx\u001b[0m in \u001b[0;36mpandas._libs.index.IndexEngine.get_loc\u001b[0;34m()\u001b[0m\n",
      "\u001b[0;32mpandas/_libs/hashtable_class_helper.pxi\u001b[0m in \u001b[0;36mpandas._libs.hashtable.PyObjectHashTable.get_item\u001b[0;34m()\u001b[0m\n",
      "\u001b[0;32mpandas/_libs/hashtable_class_helper.pxi\u001b[0m in \u001b[0;36mpandas._libs.hashtable.PyObjectHashTable.get_item\u001b[0;34m()\u001b[0m\n",
      "\u001b[0;31mKeyError\u001b[0m: 'date'",
      "\nThe above exception was the direct cause of the following exception:\n",
      "\u001b[0;31mKeyError\u001b[0m                                  Traceback (most recent call last)",
      "\u001b[0;32m/var/folders/99/ckqc944s1nl57yz05vhcmt6w0000gn/T/ipykernel_1874/4153568142.py\u001b[0m in \u001b[0;36m<module>\u001b[0;34m\u001b[0m\n\u001b[0;32m----> 1\u001b[0;31m \u001b[0mvector_df\u001b[0m\u001b[0;34m[\u001b[0m\u001b[0;34m'date'\u001b[0m\u001b[0;34m]\u001b[0m\u001b[0;34m=\u001b[0m\u001b[0mvector_df\u001b[0m\u001b[0;34m[\u001b[0m\u001b[0;34m'date'\u001b[0m\u001b[0;34m]\u001b[0m\u001b[0;34m.\u001b[0m\u001b[0mapply\u001b[0m\u001b[0;34m(\u001b[0m\u001b[0mreplacet\u001b[0m\u001b[0;34m)\u001b[0m\u001b[0;34m\u001b[0m\u001b[0;34m\u001b[0m\u001b[0m\n\u001b[0m",
      "\u001b[0;32m~/.pyenv/versions/3.8.6/envs/market_sentiment/lib/python3.8/site-packages/pandas/core/frame.py\u001b[0m in \u001b[0;36m__getitem__\u001b[0;34m(self, key)\u001b[0m\n\u001b[1;32m   3453\u001b[0m             \u001b[0;32mif\u001b[0m \u001b[0mself\u001b[0m\u001b[0;34m.\u001b[0m\u001b[0mcolumns\u001b[0m\u001b[0;34m.\u001b[0m\u001b[0mnlevels\u001b[0m \u001b[0;34m>\u001b[0m \u001b[0;36m1\u001b[0m\u001b[0;34m:\u001b[0m\u001b[0;34m\u001b[0m\u001b[0;34m\u001b[0m\u001b[0m\n\u001b[1;32m   3454\u001b[0m                 \u001b[0;32mreturn\u001b[0m \u001b[0mself\u001b[0m\u001b[0;34m.\u001b[0m\u001b[0m_getitem_multilevel\u001b[0m\u001b[0;34m(\u001b[0m\u001b[0mkey\u001b[0m\u001b[0;34m)\u001b[0m\u001b[0;34m\u001b[0m\u001b[0;34m\u001b[0m\u001b[0m\n\u001b[0;32m-> 3455\u001b[0;31m             \u001b[0mindexer\u001b[0m \u001b[0;34m=\u001b[0m \u001b[0mself\u001b[0m\u001b[0;34m.\u001b[0m\u001b[0mcolumns\u001b[0m\u001b[0;34m.\u001b[0m\u001b[0mget_loc\u001b[0m\u001b[0;34m(\u001b[0m\u001b[0mkey\u001b[0m\u001b[0;34m)\u001b[0m\u001b[0;34m\u001b[0m\u001b[0;34m\u001b[0m\u001b[0m\n\u001b[0m\u001b[1;32m   3456\u001b[0m             \u001b[0;32mif\u001b[0m \u001b[0mis_integer\u001b[0m\u001b[0;34m(\u001b[0m\u001b[0mindexer\u001b[0m\u001b[0;34m)\u001b[0m\u001b[0;34m:\u001b[0m\u001b[0;34m\u001b[0m\u001b[0;34m\u001b[0m\u001b[0m\n\u001b[1;32m   3457\u001b[0m                 \u001b[0mindexer\u001b[0m \u001b[0;34m=\u001b[0m \u001b[0;34m[\u001b[0m\u001b[0mindexer\u001b[0m\u001b[0;34m]\u001b[0m\u001b[0;34m\u001b[0m\u001b[0;34m\u001b[0m\u001b[0m\n",
      "\u001b[0;32m~/.pyenv/versions/3.8.6/envs/market_sentiment/lib/python3.8/site-packages/pandas/core/indexes/base.py\u001b[0m in \u001b[0;36mget_loc\u001b[0;34m(self, key, method, tolerance)\u001b[0m\n\u001b[1;32m   3361\u001b[0m                 \u001b[0;32mreturn\u001b[0m \u001b[0mself\u001b[0m\u001b[0;34m.\u001b[0m\u001b[0m_engine\u001b[0m\u001b[0;34m.\u001b[0m\u001b[0mget_loc\u001b[0m\u001b[0;34m(\u001b[0m\u001b[0mcasted_key\u001b[0m\u001b[0;34m)\u001b[0m\u001b[0;34m\u001b[0m\u001b[0;34m\u001b[0m\u001b[0m\n\u001b[1;32m   3362\u001b[0m             \u001b[0;32mexcept\u001b[0m \u001b[0mKeyError\u001b[0m \u001b[0;32mas\u001b[0m \u001b[0merr\u001b[0m\u001b[0;34m:\u001b[0m\u001b[0;34m\u001b[0m\u001b[0;34m\u001b[0m\u001b[0m\n\u001b[0;32m-> 3363\u001b[0;31m                 \u001b[0;32mraise\u001b[0m \u001b[0mKeyError\u001b[0m\u001b[0;34m(\u001b[0m\u001b[0mkey\u001b[0m\u001b[0;34m)\u001b[0m \u001b[0;32mfrom\u001b[0m \u001b[0merr\u001b[0m\u001b[0;34m\u001b[0m\u001b[0;34m\u001b[0m\u001b[0m\n\u001b[0m\u001b[1;32m   3364\u001b[0m \u001b[0;34m\u001b[0m\u001b[0m\n\u001b[1;32m   3365\u001b[0m         \u001b[0;32mif\u001b[0m \u001b[0mis_scalar\u001b[0m\u001b[0;34m(\u001b[0m\u001b[0mkey\u001b[0m\u001b[0;34m)\u001b[0m \u001b[0;32mand\u001b[0m \u001b[0misna\u001b[0m\u001b[0;34m(\u001b[0m\u001b[0mkey\u001b[0m\u001b[0;34m)\u001b[0m \u001b[0;32mand\u001b[0m \u001b[0;32mnot\u001b[0m \u001b[0mself\u001b[0m\u001b[0;34m.\u001b[0m\u001b[0mhasnans\u001b[0m\u001b[0;34m:\u001b[0m\u001b[0;34m\u001b[0m\u001b[0;34m\u001b[0m\u001b[0m\n",
      "\u001b[0;31mKeyError\u001b[0m: 'date'"
     ]
    }
   ],
   "source": [
    "vector_df['date']=vector_df['date'].apply(replacet)"
   ]
  },
  {
   "cell_type": "code",
   "execution_count": null,
   "id": "e737e707",
   "metadata": {},
   "outputs": [],
   "source": [
    "vector_df['date']= vector_df['date'].apply(replacequo)"
   ]
  },
  {
   "cell_type": "code",
   "execution_count": null,
   "id": "9d9c323d",
   "metadata": {},
   "outputs": [],
   "source": [
    "vector_df['date'] = vector_df['date'].apply(replacestr)"
   ]
  },
  {
   "cell_type": "code",
   "execution_count": null,
   "id": "630cfb6d",
   "metadata": {},
   "outputs": [],
   "source": [
    "vector_df['date'] = list(map(lambda x: datetime.strptime(x,'%a %b %d %H:%M:%S %Y').strftime('%m/%d/%Y'), vector_df['date']))\n"
   ]
  },
  {
   "cell_type": "code",
   "execution_count": null,
   "id": "f682b107",
   "metadata": {},
   "outputs": [],
   "source": [
    "vector_df['date'] = pd.to_datetime(vector_df['date'])"
   ]
  },
  {
   "cell_type": "code",
   "execution_count": null,
   "id": "e10ecfe3",
   "metadata": {},
   "outputs": [],
   "source": [
    "vector_df = vector_df.drop(['index','full_text'], axis = 1)"
   ]
  },
  {
   "cell_type": "code",
   "execution_count": null,
   "id": "3967d16d",
   "metadata": {},
   "outputs": [],
   "source": []
  },
  {
   "cell_type": "code",
   "execution_count": null,
   "id": "de4965aa",
   "metadata": {},
   "outputs": [],
   "source": [
    "btc_ticker_df = vector_df[vector_df['is_btc']==1.]\n"
   ]
  },
  {
   "cell_type": "code",
   "execution_count": null,
   "id": "ee8ef007",
   "metadata": {},
   "outputs": [],
   "source": []
  },
  {
   "cell_type": "code",
   "execution_count": null,
   "id": "02011149",
   "metadata": {},
   "outputs": [],
   "source": []
  },
  {
   "cell_type": "code",
   "execution_count": null,
   "id": "802cb23c",
   "metadata": {},
   "outputs": [],
   "source": []
  },
  {
   "cell_type": "code",
   "execution_count": null,
   "id": "e0d424ec",
   "metadata": {},
   "outputs": [],
   "source": []
  },
  {
   "cell_type": "code",
   "execution_count": null,
   "id": "f6138020",
   "metadata": {},
   "outputs": [],
   "source": []
  },
  {
   "cell_type": "code",
   "execution_count": null,
   "id": "2ab82e37",
   "metadata": {},
   "outputs": [],
   "source": []
  },
  {
   "cell_type": "code",
   "execution_count": null,
   "id": "4503295f",
   "metadata": {},
   "outputs": [],
   "source": []
  },
  {
   "cell_type": "code",
   "execution_count": null,
   "id": "bed04760",
   "metadata": {},
   "outputs": [],
   "source": []
  },
  {
   "cell_type": "code",
   "execution_count": null,
   "id": "74acaec9",
   "metadata": {},
   "outputs": [],
   "source": []
  },
  {
   "cell_type": "code",
   "execution_count": null,
   "id": "a95de6e6",
   "metadata": {},
   "outputs": [],
   "source": []
  },
  {
   "cell_type": "code",
   "execution_count": null,
   "id": "0b3e9e52",
   "metadata": {},
   "outputs": [],
   "source": []
  },
  {
   "cell_type": "code",
   "execution_count": null,
   "id": "fc300bf9",
   "metadata": {},
   "outputs": [],
   "source": []
  },
  {
   "cell_type": "code",
   "execution_count": null,
   "id": "d2bcecd1",
   "metadata": {},
   "outputs": [],
   "source": []
  },
  {
   "cell_type": "code",
   "execution_count": 7,
   "id": "5f9de2d9",
   "metadata": {},
   "outputs": [],
   "source": [
    "df = pd.read_csv('bitcoin_ticker.csv')"
   ]
  },
  {
   "cell_type": "code",
   "execution_count": 8,
   "id": "f0679999",
   "metadata": {},
   "outputs": [],
   "source": [
    "df.rename({'Unnamed: 0':'Date'}, inplace=True, axis=1)"
   ]
  },
  {
   "cell_type": "code",
   "execution_count": null,
   "id": "dc325476",
   "metadata": {},
   "outputs": [],
   "source": []
  },
  {
   "cell_type": "code",
   "execution_count": 9,
   "id": "627e7662",
   "metadata": {},
   "outputs": [],
   "source": [
    "df['Date'] = pd.to_datetime(df['Date'])"
   ]
  },
  {
   "cell_type": "code",
   "execution_count": null,
   "id": "6bf95fd8",
   "metadata": {},
   "outputs": [],
   "source": []
  },
  {
   "cell_type": "code",
   "execution_count": 10,
   "id": "143b98bf",
   "metadata": {},
   "outputs": [],
   "source": [
    "df = df.set_index(['Date'])"
   ]
  },
  {
   "cell_type": "code",
   "execution_count": 11,
   "id": "1f092dce",
   "metadata": {},
   "outputs": [],
   "source": [
    "df = df.drop(['is_intc','is_ge','is_bynd','BTC','is_btc'], axis = 1)"
   ]
  },
  {
   "cell_type": "code",
   "execution_count": null,
   "id": "96536a17",
   "metadata": {},
   "outputs": [],
   "source": []
  },
  {
   "cell_type": "code",
   "execution_count": 12,
   "id": "78a6f1cd",
   "metadata": {},
   "outputs": [],
   "source": [
    "tg = pd.read_csv('Binance_BTCUSDT_d.csv')"
   ]
  },
  {
   "cell_type": "code",
   "execution_count": 13,
   "id": "5a7bc35f",
   "metadata": {},
   "outputs": [],
   "source": [
    "tg = tg[['date','close']]"
   ]
  },
  {
   "cell_type": "code",
   "execution_count": 14,
   "id": "c767d169",
   "metadata": {},
   "outputs": [],
   "source": [
    "tg['date'] = pd.to_datetime(tg['date'])"
   ]
  },
  {
   "cell_type": "code",
   "execution_count": 15,
   "id": "e075b2cb",
   "metadata": {},
   "outputs": [],
   "source": [
    "tg = tg.set_index(['date'])"
   ]
  },
  {
   "cell_type": "code",
   "execution_count": null,
   "id": "8a917099",
   "metadata": {},
   "outputs": [],
   "source": []
  },
  {
   "cell_type": "code",
   "execution_count": 16,
   "id": "442c8f9d",
   "metadata": {},
   "outputs": [],
   "source": [
    "def onezero(x):\n",
    "    if x>0:\n",
    "        return 1\n",
    "    else:\n",
    "        return 0"
   ]
  },
  {
   "cell_type": "code",
   "execution_count": 17,
   "id": "6c884257",
   "metadata": {},
   "outputs": [],
   "source": [
    "btc_target = pd.Series(tg['close']).diff().apply(onezero)"
   ]
  },
  {
   "cell_type": "code",
   "execution_count": null,
   "id": "f0d78fce",
   "metadata": {},
   "outputs": [],
   "source": []
  },
  {
   "cell_type": "code",
   "execution_count": 18,
   "id": "95ad448a",
   "metadata": {},
   "outputs": [],
   "source": [
    "btc_df = pd.merge(df,btc_target,left_index=True,right_index=True,)"
   ]
  },
  {
   "cell_type": "code",
   "execution_count": 19,
   "id": "a48e442d",
   "metadata": {
    "scrolled": true
   },
   "outputs": [
    {
     "data": {
      "text/html": [
       "<div>\n",
       "<style scoped>\n",
       "    .dataframe tbody tr th:only-of-type {\n",
       "        vertical-align: middle;\n",
       "    }\n",
       "\n",
       "    .dataframe tbody tr th {\n",
       "        vertical-align: top;\n",
       "    }\n",
       "\n",
       "    .dataframe thead th {\n",
       "        text-align: right;\n",
       "    }\n",
       "</style>\n",
       "<table border=\"1\" class=\"dataframe\">\n",
       "  <thead>\n",
       "    <tr style=\"text-align: right;\">\n",
       "      <th></th>\n",
       "      <th>0</th>\n",
       "      <th>1</th>\n",
       "      <th>2</th>\n",
       "      <th>3</th>\n",
       "      <th>4</th>\n",
       "      <th>5</th>\n",
       "      <th>6</th>\n",
       "      <th>7</th>\n",
       "      <th>8</th>\n",
       "      <th>9</th>\n",
       "      <th>...</th>\n",
       "      <th>503</th>\n",
       "      <th>504</th>\n",
       "      <th>505</th>\n",
       "      <th>506</th>\n",
       "      <th>507</th>\n",
       "      <th>508</th>\n",
       "      <th>509</th>\n",
       "      <th>510</th>\n",
       "      <th>511</th>\n",
       "      <th>close</th>\n",
       "    </tr>\n",
       "  </thead>\n",
       "  <tbody>\n",
       "    <tr>\n",
       "      <th>2018-01-05</th>\n",
       "      <td>-0.013117</td>\n",
       "      <td>0.050249</td>\n",
       "      <td>-0.089505</td>\n",
       "      <td>-0.092741</td>\n",
       "      <td>0.037357</td>\n",
       "      <td>0.060436</td>\n",
       "      <td>-0.054213</td>\n",
       "      <td>0.004616</td>\n",
       "      <td>-0.025182</td>\n",
       "      <td>-0.005532</td>\n",
       "      <td>...</td>\n",
       "      <td>-0.088402</td>\n",
       "      <td>0.013783</td>\n",
       "      <td>-0.087747</td>\n",
       "      <td>0.015506</td>\n",
       "      <td>0.063639</td>\n",
       "      <td>0.031106</td>\n",
       "      <td>-0.038073</td>\n",
       "      <td>0.058685</td>\n",
       "      <td>-0.026750</td>\n",
       "      <td>0</td>\n",
       "    </tr>\n",
       "    <tr>\n",
       "      <th>2018-01-08</th>\n",
       "      <td>-0.014055</td>\n",
       "      <td>-0.008568</td>\n",
       "      <td>-0.035180</td>\n",
       "      <td>-0.050764</td>\n",
       "      <td>0.018540</td>\n",
       "      <td>0.049535</td>\n",
       "      <td>0.019374</td>\n",
       "      <td>0.006960</td>\n",
       "      <td>-0.048838</td>\n",
       "      <td>0.004369</td>\n",
       "      <td>...</td>\n",
       "      <td>0.020352</td>\n",
       "      <td>0.029425</td>\n",
       "      <td>-0.034056</td>\n",
       "      <td>0.040794</td>\n",
       "      <td>-0.018060</td>\n",
       "      <td>0.006818</td>\n",
       "      <td>-0.007444</td>\n",
       "      <td>0.003750</td>\n",
       "      <td>0.026947</td>\n",
       "      <td>1</td>\n",
       "    </tr>\n",
       "    <tr>\n",
       "      <th>2018-01-10</th>\n",
       "      <td>-0.020160</td>\n",
       "      <td>0.077612</td>\n",
       "      <td>-0.086937</td>\n",
       "      <td>-0.087630</td>\n",
       "      <td>0.051575</td>\n",
       "      <td>0.015803</td>\n",
       "      <td>-0.020839</td>\n",
       "      <td>0.047803</td>\n",
       "      <td>0.033464</td>\n",
       "      <td>0.061327</td>\n",
       "      <td>...</td>\n",
       "      <td>-0.069036</td>\n",
       "      <td>0.006249</td>\n",
       "      <td>-0.089332</td>\n",
       "      <td>0.048672</td>\n",
       "      <td>0.017545</td>\n",
       "      <td>0.049167</td>\n",
       "      <td>-0.024719</td>\n",
       "      <td>0.026676</td>\n",
       "      <td>-0.024144</td>\n",
       "      <td>1</td>\n",
       "    </tr>\n",
       "    <tr>\n",
       "      <th>2018-01-11</th>\n",
       "      <td>-0.049693</td>\n",
       "      <td>-0.034059</td>\n",
       "      <td>-0.011563</td>\n",
       "      <td>0.023274</td>\n",
       "      <td>0.041552</td>\n",
       "      <td>-0.053513</td>\n",
       "      <td>0.087067</td>\n",
       "      <td>0.029606</td>\n",
       "      <td>-0.024782</td>\n",
       "      <td>-0.049679</td>\n",
       "      <td>...</td>\n",
       "      <td>0.018620</td>\n",
       "      <td>-0.016023</td>\n",
       "      <td>0.006528</td>\n",
       "      <td>0.039616</td>\n",
       "      <td>-0.032307</td>\n",
       "      <td>0.013691</td>\n",
       "      <td>-0.089713</td>\n",
       "      <td>0.017997</td>\n",
       "      <td>-0.059676</td>\n",
       "      <td>0</td>\n",
       "    </tr>\n",
       "    <tr>\n",
       "      <th>2018-01-12</th>\n",
       "      <td>0.013330</td>\n",
       "      <td>0.027462</td>\n",
       "      <td>-0.094327</td>\n",
       "      <td>-0.063976</td>\n",
       "      <td>0.008876</td>\n",
       "      <td>-0.031593</td>\n",
       "      <td>-0.038821</td>\n",
       "      <td>0.039568</td>\n",
       "      <td>0.045371</td>\n",
       "      <td>-0.015747</td>\n",
       "      <td>...</td>\n",
       "      <td>-0.044575</td>\n",
       "      <td>-0.032921</td>\n",
       "      <td>-0.101876</td>\n",
       "      <td>0.070673</td>\n",
       "      <td>0.043715</td>\n",
       "      <td>-0.041792</td>\n",
       "      <td>-0.050335</td>\n",
       "      <td>-0.008948</td>\n",
       "      <td>0.033937</td>\n",
       "      <td>0</td>\n",
       "    </tr>\n",
       "    <tr>\n",
       "      <th>...</th>\n",
       "      <td>...</td>\n",
       "      <td>...</td>\n",
       "      <td>...</td>\n",
       "      <td>...</td>\n",
       "      <td>...</td>\n",
       "      <td>...</td>\n",
       "      <td>...</td>\n",
       "      <td>...</td>\n",
       "      <td>...</td>\n",
       "      <td>...</td>\n",
       "      <td>...</td>\n",
       "      <td>...</td>\n",
       "      <td>...</td>\n",
       "      <td>...</td>\n",
       "      <td>...</td>\n",
       "      <td>...</td>\n",
       "      <td>...</td>\n",
       "      <td>...</td>\n",
       "      <td>...</td>\n",
       "      <td>...</td>\n",
       "      <td>...</td>\n",
       "    </tr>\n",
       "    <tr>\n",
       "      <th>2021-07-26</th>\n",
       "      <td>-0.001720</td>\n",
       "      <td>0.016274</td>\n",
       "      <td>-0.065167</td>\n",
       "      <td>-0.058923</td>\n",
       "      <td>-0.002287</td>\n",
       "      <td>0.007711</td>\n",
       "      <td>-0.014827</td>\n",
       "      <td>0.036962</td>\n",
       "      <td>-0.006803</td>\n",
       "      <td>0.024787</td>\n",
       "      <td>...</td>\n",
       "      <td>-0.051016</td>\n",
       "      <td>0.005601</td>\n",
       "      <td>-0.063204</td>\n",
       "      <td>0.051792</td>\n",
       "      <td>0.033882</td>\n",
       "      <td>0.005262</td>\n",
       "      <td>-0.039788</td>\n",
       "      <td>0.018364</td>\n",
       "      <td>0.028023</td>\n",
       "      <td>0</td>\n",
       "    </tr>\n",
       "    <tr>\n",
       "      <th>2021-07-27</th>\n",
       "      <td>-0.040802</td>\n",
       "      <td>-0.034456</td>\n",
       "      <td>-0.008718</td>\n",
       "      <td>-0.039767</td>\n",
       "      <td>0.068099</td>\n",
       "      <td>0.004389</td>\n",
       "      <td>0.064929</td>\n",
       "      <td>0.032037</td>\n",
       "      <td>0.053845</td>\n",
       "      <td>-0.023774</td>\n",
       "      <td>...</td>\n",
       "      <td>-0.051587</td>\n",
       "      <td>-0.057731</td>\n",
       "      <td>-0.015623</td>\n",
       "      <td>0.078866</td>\n",
       "      <td>0.025335</td>\n",
       "      <td>0.051901</td>\n",
       "      <td>-0.057740</td>\n",
       "      <td>-0.022931</td>\n",
       "      <td>0.061395</td>\n",
       "      <td>0</td>\n",
       "    </tr>\n",
       "    <tr>\n",
       "      <th>2021-07-28</th>\n",
       "      <td>-0.008338</td>\n",
       "      <td>0.009048</td>\n",
       "      <td>-0.065037</td>\n",
       "      <td>-0.042550</td>\n",
       "      <td>0.015016</td>\n",
       "      <td>-0.015267</td>\n",
       "      <td>0.013546</td>\n",
       "      <td>0.037848</td>\n",
       "      <td>-0.015830</td>\n",
       "      <td>0.019980</td>\n",
       "      <td>...</td>\n",
       "      <td>-0.052015</td>\n",
       "      <td>-0.000688</td>\n",
       "      <td>-0.062559</td>\n",
       "      <td>0.057076</td>\n",
       "      <td>0.017995</td>\n",
       "      <td>0.016437</td>\n",
       "      <td>-0.066338</td>\n",
       "      <td>0.017857</td>\n",
       "      <td>0.033141</td>\n",
       "      <td>1</td>\n",
       "    </tr>\n",
       "    <tr>\n",
       "      <th>2021-07-29</th>\n",
       "      <td>-0.026184</td>\n",
       "      <td>0.016183</td>\n",
       "      <td>-0.068015</td>\n",
       "      <td>-0.057039</td>\n",
       "      <td>0.005724</td>\n",
       "      <td>0.030354</td>\n",
       "      <td>0.058527</td>\n",
       "      <td>-0.012193</td>\n",
       "      <td>-0.020392</td>\n",
       "      <td>0.030590</td>\n",
       "      <td>...</td>\n",
       "      <td>-0.052780</td>\n",
       "      <td>0.022534</td>\n",
       "      <td>-0.045359</td>\n",
       "      <td>0.054422</td>\n",
       "      <td>0.041829</td>\n",
       "      <td>-0.023707</td>\n",
       "      <td>-0.038047</td>\n",
       "      <td>0.021094</td>\n",
       "      <td>0.052705</td>\n",
       "      <td>0</td>\n",
       "    </tr>\n",
       "    <tr>\n",
       "      <th>2021-07-30</th>\n",
       "      <td>-0.004545</td>\n",
       "      <td>0.036036</td>\n",
       "      <td>-0.066841</td>\n",
       "      <td>-0.056277</td>\n",
       "      <td>0.010324</td>\n",
       "      <td>0.015425</td>\n",
       "      <td>-0.009501</td>\n",
       "      <td>0.043699</td>\n",
       "      <td>-0.007868</td>\n",
       "      <td>0.025093</td>\n",
       "      <td>...</td>\n",
       "      <td>-0.055226</td>\n",
       "      <td>0.014025</td>\n",
       "      <td>-0.063849</td>\n",
       "      <td>0.065055</td>\n",
       "      <td>0.021899</td>\n",
       "      <td>-0.009602</td>\n",
       "      <td>-0.047170</td>\n",
       "      <td>0.014486</td>\n",
       "      <td>0.031893</td>\n",
       "      <td>1</td>\n",
       "    </tr>\n",
       "  </tbody>\n",
       "</table>\n",
       "<p>601 rows × 513 columns</p>\n",
       "</div>"
      ],
      "text/plain": [
       "                   0         1         2         3         4         5  \\\n",
       "2018-01-05 -0.013117  0.050249 -0.089505 -0.092741  0.037357  0.060436   \n",
       "2018-01-08 -0.014055 -0.008568 -0.035180 -0.050764  0.018540  0.049535   \n",
       "2018-01-10 -0.020160  0.077612 -0.086937 -0.087630  0.051575  0.015803   \n",
       "2018-01-11 -0.049693 -0.034059 -0.011563  0.023274  0.041552 -0.053513   \n",
       "2018-01-12  0.013330  0.027462 -0.094327 -0.063976  0.008876 -0.031593   \n",
       "...              ...       ...       ...       ...       ...       ...   \n",
       "2021-07-26 -0.001720  0.016274 -0.065167 -0.058923 -0.002287  0.007711   \n",
       "2021-07-27 -0.040802 -0.034456 -0.008718 -0.039767  0.068099  0.004389   \n",
       "2021-07-28 -0.008338  0.009048 -0.065037 -0.042550  0.015016 -0.015267   \n",
       "2021-07-29 -0.026184  0.016183 -0.068015 -0.057039  0.005724  0.030354   \n",
       "2021-07-30 -0.004545  0.036036 -0.066841 -0.056277  0.010324  0.015425   \n",
       "\n",
       "                   6         7         8         9  ...       503       504  \\\n",
       "2018-01-05 -0.054213  0.004616 -0.025182 -0.005532  ... -0.088402  0.013783   \n",
       "2018-01-08  0.019374  0.006960 -0.048838  0.004369  ...  0.020352  0.029425   \n",
       "2018-01-10 -0.020839  0.047803  0.033464  0.061327  ... -0.069036  0.006249   \n",
       "2018-01-11  0.087067  0.029606 -0.024782 -0.049679  ...  0.018620 -0.016023   \n",
       "2018-01-12 -0.038821  0.039568  0.045371 -0.015747  ... -0.044575 -0.032921   \n",
       "...              ...       ...       ...       ...  ...       ...       ...   \n",
       "2021-07-26 -0.014827  0.036962 -0.006803  0.024787  ... -0.051016  0.005601   \n",
       "2021-07-27  0.064929  0.032037  0.053845 -0.023774  ... -0.051587 -0.057731   \n",
       "2021-07-28  0.013546  0.037848 -0.015830  0.019980  ... -0.052015 -0.000688   \n",
       "2021-07-29  0.058527 -0.012193 -0.020392  0.030590  ... -0.052780  0.022534   \n",
       "2021-07-30 -0.009501  0.043699 -0.007868  0.025093  ... -0.055226  0.014025   \n",
       "\n",
       "                 505       506       507       508       509       510  \\\n",
       "2018-01-05 -0.087747  0.015506  0.063639  0.031106 -0.038073  0.058685   \n",
       "2018-01-08 -0.034056  0.040794 -0.018060  0.006818 -0.007444  0.003750   \n",
       "2018-01-10 -0.089332  0.048672  0.017545  0.049167 -0.024719  0.026676   \n",
       "2018-01-11  0.006528  0.039616 -0.032307  0.013691 -0.089713  0.017997   \n",
       "2018-01-12 -0.101876  0.070673  0.043715 -0.041792 -0.050335 -0.008948   \n",
       "...              ...       ...       ...       ...       ...       ...   \n",
       "2021-07-26 -0.063204  0.051792  0.033882  0.005262 -0.039788  0.018364   \n",
       "2021-07-27 -0.015623  0.078866  0.025335  0.051901 -0.057740 -0.022931   \n",
       "2021-07-28 -0.062559  0.057076  0.017995  0.016437 -0.066338  0.017857   \n",
       "2021-07-29 -0.045359  0.054422  0.041829 -0.023707 -0.038047  0.021094   \n",
       "2021-07-30 -0.063849  0.065055  0.021899 -0.009602 -0.047170  0.014486   \n",
       "\n",
       "                 511  close  \n",
       "2018-01-05 -0.026750      0  \n",
       "2018-01-08  0.026947      1  \n",
       "2018-01-10 -0.024144      1  \n",
       "2018-01-11 -0.059676      0  \n",
       "2018-01-12  0.033937      0  \n",
       "...              ...    ...  \n",
       "2021-07-26  0.028023      0  \n",
       "2021-07-27  0.061395      0  \n",
       "2021-07-28  0.033141      1  \n",
       "2021-07-29  0.052705      0  \n",
       "2021-07-30  0.031893      1  \n",
       "\n",
       "[601 rows x 513 columns]"
      ]
     },
     "execution_count": 19,
     "metadata": {},
     "output_type": "execute_result"
    }
   ],
   "source": [
    "btc_df"
   ]
  },
  {
   "cell_type": "code",
   "execution_count": 20,
   "id": "76718805",
   "metadata": {},
   "outputs": [],
   "source": [
    "X = btc_df.drop(columns = ['close'], axis = 1)"
   ]
  },
  {
   "cell_type": "code",
   "execution_count": 21,
   "id": "30fb1ed1",
   "metadata": {},
   "outputs": [],
   "source": [
    "y = btc_df['close']"
   ]
  },
  {
   "cell_type": "code",
   "execution_count": 27,
   "id": "17fbf6d7",
   "metadata": {},
   "outputs": [],
   "source": [
    "from sklearn import datasets\n",
    "from sklearn.model_selection import train_test_split\n",
    "from sklearn.linear_model import LinearRegression\n",
    "from sklearn.preprocessing import StandardScaler\n",
    "from sklearn.pipeline import Pipeline\n",
    "from sklearn.svm import SVC\n",
    "from sklearn.tree import DecisionTreeClassifier\n",
    "from sklearn.ensemble import RandomForestClassifier,VotingClassifier\n",
    "from sklearn.model_selection import train_test_split,cross_validate\n",
    "import joblib\n",
    "from sklearn.model_selection import GridSearchCV\n"
   ]
  },
  {
   "cell_type": "code",
   "execution_count": 26,
   "id": "90d81c7b",
   "metadata": {},
   "outputs": [],
   "source": [
    "from sklearn.pipeline import Pipeline\n",
    "from sklearn.impute import KNNImputer\n",
    "from sklearn.preprocessing import MinMaxScaler\n",
    "from sklearn.linear_model import LogisticRegression\n",
    "from sklearn.linear_model import Ridge\n",
    "from sklearn.model_selection import cross_val_score\n",
    "from sklearn.model_selection import GridSearchCV\n",
    "from sklearn.linear_model import Ridge\n",
    "from sklearn.impute import SimpleImputer\n",
    "from sklearn.preprocessing import StandardScaler\n",
    "from sklearn.compose import ColumnTransformer\n",
    "from sklearn.compose import make_column_selector"
   ]
  },
  {
   "cell_type": "code",
   "execution_count": 24,
   "id": "b4a4b52a",
   "metadata": {},
   "outputs": [],
   "source": [
    "X_train, X_test, y_train, y_test = train_test_split(X, y, test_size=0.2)"
   ]
  },
  {
   "cell_type": "code",
   "execution_count": null,
   "id": "1f556d78",
   "metadata": {},
   "outputs": [],
   "source": []
  },
  {
   "cell_type": "code",
   "execution_count": 28,
   "id": "990a81c8",
   "metadata": {},
   "outputs": [
    {
     "ename": "NameError",
     "evalue": "name 'voting_classifier_hard' is not defined",
     "output_type": "error",
     "traceback": [
      "\u001b[0;31m---------------------------------------------------------------------------\u001b[0m",
      "\u001b[0;31mNameError\u001b[0m                                 Traceback (most recent call last)",
      "\u001b[0;32m/var/folders/99/ckqc944s1nl57yz05vhcmt6w0000gn/T/ipykernel_99887/2018751086.py\u001b[0m in \u001b[0;36m<module>\u001b[0;34m\u001b[0m\n\u001b[0;32m----> 1\u001b[0;31m \u001b[0mcv_results\u001b[0m \u001b[0;34m=\u001b[0m \u001b[0mcross_validate\u001b[0m\u001b[0;34m(\u001b[0m\u001b[0mvoting_classifier_hard\u001b[0m\u001b[0;34m,\u001b[0m \u001b[0mX\u001b[0m\u001b[0;34m,\u001b[0m \u001b[0my\u001b[0m\u001b[0;34m,\u001b[0m \u001b[0mscoring\u001b[0m \u001b[0;34m=\u001b[0m \u001b[0;34m'accuracy'\u001b[0m \u001b[0;34m,\u001b[0m \u001b[0mcv\u001b[0m\u001b[0;34m=\u001b[0m\u001b[0;36m5\u001b[0m\u001b[0;34m)\u001b[0m\u001b[0;34m\u001b[0m\u001b[0;34m\u001b[0m\u001b[0m\n\u001b[0m",
      "\u001b[0;31mNameError\u001b[0m: name 'voting_classifier_hard' is not defined"
     ]
    }
   ],
   "source": [
    "cv_results = cross_validate(voting_classifier_hard, X, y, scoring = 'accuracy' , cv=5)\n"
   ]
  },
  {
   "cell_type": "code",
   "execution_count": null,
   "id": "177bf97d",
   "metadata": {},
   "outputs": [],
   "source": []
  },
  {
   "cell_type": "code",
   "execution_count": 27,
   "id": "e8736f59",
   "metadata": {},
   "outputs": [
    {
     "ename": "NameError",
     "evalue": "name 'cv_results' is not defined",
     "output_type": "error",
     "traceback": [
      "\u001b[0;31m---------------------------------------------------------------------------\u001b[0m",
      "\u001b[0;31mNameError\u001b[0m                                 Traceback (most recent call last)",
      "\u001b[0;32m/var/folders/99/ckqc944s1nl57yz05vhcmt6w0000gn/T/ipykernel_33485/1192220264.py\u001b[0m in \u001b[0;36m<module>\u001b[0;34m\u001b[0m\n\u001b[0;32m----> 1\u001b[0;31m \u001b[0mcv_results\u001b[0m\u001b[0;34m[\u001b[0m\u001b[0;34m'test_score'\u001b[0m\u001b[0;34m]\u001b[0m\u001b[0;34m.\u001b[0m\u001b[0mmean\u001b[0m\u001b[0;34m(\u001b[0m\u001b[0;34m)\u001b[0m\u001b[0;34m\u001b[0m\u001b[0;34m\u001b[0m\u001b[0m\n\u001b[0m",
      "\u001b[0;31mNameError\u001b[0m: name 'cv_results' is not defined"
     ]
    }
   ],
   "source": [
    "cv_results['test_score'].mean()"
   ]
  },
  {
   "cell_type": "code",
   "execution_count": null,
   "id": "77b32a8f",
   "metadata": {},
   "outputs": [],
   "source": []
  },
  {
   "cell_type": "code",
   "execution_count": 29,
   "id": "062ef3aa",
   "metadata": {},
   "outputs": [],
   "source": [
    "voting_classifier_soft = VotingClassifier(estimators = [\n",
    "    ('svc',SVC(probability=True)),\n",
    "    ('rf',RandomForestClassifier()),\n",
    "    ], voting='soft')"
   ]
  },
  {
   "cell_type": "code",
   "execution_count": 30,
   "id": "9f473fe3",
   "metadata": {},
   "outputs": [],
   "source": [
    "voting_classifier_soft1 = VotingClassifier(estimators=[('svc',\n",
    "                              SVC(C=0.5, kernel='poly', probability=True)),\n",
    "                             ('rf',\n",
    "                              RandomForestClassifier(max_depth=80,\n",
    "                                                     max_features=10,\n",
    "                                                     min_samples_leaf=4,\n",
    "                                                     min_samples_split=10))],\n",
    "                 voting='soft')"
   ]
  },
  {
   "cell_type": "code",
   "execution_count": 31,
   "id": "cd87afda",
   "metadata": {},
   "outputs": [],
   "source": [
    "voting_classifier_soft2 = VotingClassifier(estimators=[('svc',\n",
    "                              SVC(C=100, kernel='sigmoid', probability=True)),\n",
    "                             ('rf',\n",
    "                              RandomForestClassifier(max_depth=90,\n",
    "                                                     max_features=3,\n",
    "                                                     min_samples_leaf=4,\n",
    "                                                     min_samples_split=10,\n",
    "                                                     n_estimators=300))],\n",
    "                 voting='soft')"
   ]
  },
  {
   "cell_type": "code",
   "execution_count": null,
   "id": "00a0317a",
   "metadata": {},
   "outputs": [],
   "source": []
  },
  {
   "cell_type": "code",
   "execution_count": 140,
   "id": "b625bb85",
   "metadata": {},
   "outputs": [],
   "source": [
    "params1 = {'svc__C': [0.1, 0.08, 0.5],\n",
    "          'svc__kernel': ['rbf', 'poly', 'sigmoid'],\n",
    "          'rf__max_depth': [80, 90],\n",
    "          'rf__max_features': [10],\n",
    "          'rf__min_samples_leaf': [3, 4, 5],\n",
    "          'rf__min_samples_split': [8, 10, 12,],\n",
    "          'rf__n_estimators': [100,300],\n",
    "          \n",
    "         }\n"
   ]
  },
  {
   "cell_type": "code",
   "execution_count": 27,
   "id": "a7c9c8d9",
   "metadata": {},
   "outputs": [],
   "source": [
    "params2 = {'svc__C': [100],\n",
    "          'svc__kernel': ['sigmoid'],\n",
    "          'rf__max_depth': [90],\n",
    "          'rf__max_features': [3],\n",
    "          'rf__n_estimators': [300],\n",
    "          \n",
    "         }"
   ]
  },
  {
   "cell_type": "code",
   "execution_count": 130,
   "id": "9e9fb381",
   "metadata": {},
   "outputs": [],
   "source": [
    "from sklearn.metrics import make_scorer\n",
    "from sklearn.metrics import accuracy_score\n",
    "from sklearn.metrics import balanced_accuracy_score"
   ]
  },
  {
   "cell_type": "code",
   "execution_count": 132,
   "id": "1cfa45a1",
   "metadata": {},
   "outputs": [],
   "source": [
    "scoot = {\n",
    "    \"Accuracy\": make_scorer(accuracy_score),\n",
    "    \"Balanced\": make_scorer(balanced_accuracy_score)\n",
    "    \n",
    "}"
   ]
  },
  {
   "cell_type": "code",
   "execution_count": 38,
   "id": "02294ee4",
   "metadata": {},
   "outputs": [],
   "source": [
    "score =cross_validate(voting_classifier_soft, X, y , cv=10)"
   ]
  },
  {
   "cell_type": "code",
   "execution_count": 39,
   "id": "c31a5bf2",
   "metadata": {},
   "outputs": [
    {
     "data": {
      "text/plain": [
       "0.5275136612021859"
      ]
     },
     "execution_count": 39,
     "metadata": {},
     "output_type": "execute_result"
    }
   ],
   "source": [
    "score['test_score'].mean()"
   ]
  },
  {
   "cell_type": "code",
   "execution_count": 37,
   "id": "3e34c0bc",
   "metadata": {},
   "outputs": [],
   "source": [
    "import joblib"
   ]
  },
  {
   "cell_type": "code",
   "execution_count": 40,
   "id": "5023c690",
   "metadata": {},
   "outputs": [
    {
     "data": {
      "text/plain": [
       "VotingClassifier(estimators=[('svc', SVC(probability=True)),\n",
       "                             ('rf', RandomForestClassifier())],\n",
       "                 voting='soft')"
      ]
     },
     "execution_count": 40,
     "metadata": {},
     "output_type": "execute_result"
    }
   ],
   "source": [
    "voting_classifier_soft.fit(X_train, y_train)\n",
    "\n"
   ]
  },
  {
   "cell_type": "code",
   "execution_count": 42,
   "id": "f5055e66",
   "metadata": {},
   "outputs": [
    {
     "data": {
      "text/plain": [
       "['model.joblib']"
      ]
     },
     "execution_count": 42,
     "metadata": {},
     "output_type": "execute_result"
    }
   ],
   "source": [
    "joblib.dump(voting_classifier_soft, 'model.joblib')"
   ]
  },
  {
   "cell_type": "code",
   "execution_count": null,
   "id": "b8639730",
   "metadata": {},
   "outputs": [],
   "source": []
  },
  {
   "cell_type": "code",
   "execution_count": 30,
   "id": "b9a823ff",
   "metadata": {},
   "outputs": [
    {
     "ename": "SyntaxError",
     "evalue": "invalid syntax (1678339887.py, line 1)",
     "output_type": "error",
     "traceback": [
      "\u001b[0;36m  File \u001b[0;32m\"/var/folders/99/ckqc944s1nl57yz05vhcmt6w0000gn/T/ipykernel_33502/1678339887.py\"\u001b[0;36m, line \u001b[0;32m1\u001b[0m\n\u001b[0;31m    'bootstrap': [True],\u001b[0m\n\u001b[0m                       ^\u001b[0m\n\u001b[0;31mSyntaxError\u001b[0m\u001b[0;31m:\u001b[0m invalid syntax\n"
     ]
    }
   ],
   "source": [
    "'bootstrap': [True],\n",
    "    'max_depth': [80, 90, 100, 110],\n",
    "    'max_features': [2, 3],\n",
    "    'min_samples_leaf': [3, 4, 5],\n",
    "    'min_samples_split': [8, 10, 12],\n",
    "    'n_estimators': [100, 200, 300]"
   ]
  },
  {
   "cell_type": "code",
   "execution_count": 143,
   "id": "44a77334",
   "metadata": {},
   "outputs": [],
   "source": [
    "grid = GridSearchCV(estimator=voting_classifier_soft1, param_grid=params1,scoring=scoot , cv=3,return_train_score=True,refit='Balanced')\n",
    "\n"
   ]
  },
  {
   "cell_type": "code",
   "execution_count": 144,
   "id": "8451738c",
   "metadata": {},
   "outputs": [
    {
     "data": {
      "text/plain": [
       "GridSearchCV(cv=3,\n",
       "             estimator=VotingClassifier(estimators=[('svc',\n",
       "                                                     SVC(C=0.5, kernel='poly',\n",
       "                                                         probability=True)),\n",
       "                                                    ('rf',\n",
       "                                                     RandomForestClassifier(max_depth=80,\n",
       "                                                                            max_features=10,\n",
       "                                                                            min_samples_leaf=4,\n",
       "                                                                            min_samples_split=10))],\n",
       "                                        voting='soft'),\n",
       "             param_grid={'rf__max_depth': [80, 90], 'rf__max_features': [10],\n",
       "                         'rf__min_samples_leaf': [3, 4, 5],\n",
       "                         'rf__min_samples_split': [8, 10, 12],\n",
       "                         'rf__n_estimators': [100, 300],\n",
       "                         'svc__C': [0.1, 0.08, 0.5],\n",
       "                         'svc__kernel': ['rbf', 'poly', 'sigmoid']},\n",
       "             refit='Balanced', return_train_score=True,\n",
       "             scoring={'Accuracy': make_scorer(accuracy_score),\n",
       "                      'Balanced': make_scorer(balanced_accuracy_score)})"
      ]
     },
     "execution_count": 144,
     "metadata": {},
     "output_type": "execute_result"
    }
   ],
   "source": [
    "grid.fit(X_train,y_train)"
   ]
  },
  {
   "cell_type": "code",
   "execution_count": 123,
   "id": "e5c98119",
   "metadata": {},
   "outputs": [
    {
     "name": "stdout",
     "output_type": "stream",
     "text": [
      "{'rf__max_depth': 90, 'rf__max_features': 3, 'rf__n_estimators': 300, 'svc__C': 100, 'svc__kernel': 'sigmoid'}\n"
     ]
    }
   ],
   "source": [
    "print (grid.best_params_)"
   ]
  },
  {
   "cell_type": "code",
   "execution_count": 62,
   "id": "68e80ce5",
   "metadata": {},
   "outputs": [
    {
     "data": {
      "text/plain": [
       "VotingClassifier(estimators=[('svc',\n",
       "                              SVC(C=100, kernel='sigmoid', probability=True)),\n",
       "                             ('rf',\n",
       "                              RandomForestClassifier(max_depth=90,\n",
       "                                                     max_features=3,\n",
       "                                                     min_samples_leaf=4,\n",
       "                                                     min_samples_split=10,\n",
       "                                                     n_estimators=300))],\n",
       "                 voting='soft')"
      ]
     },
     "execution_count": 62,
     "metadata": {},
     "output_type": "execute_result"
    }
   ],
   "source": [
    "best_grid = grid.best_estimator_\n",
    "#grid_accuracy = evaluate(best_grid, test_features, test_labels)\n",
    "best_grid"
   ]
  },
  {
   "cell_type": "code",
   "execution_count": 145,
   "id": "2bc4f2da",
   "metadata": {},
   "outputs": [
    {
     "data": {
      "text/plain": [
       "0.5358731373660354"
      ]
     },
     "execution_count": 145,
     "metadata": {},
     "output_type": "execute_result"
    }
   ],
   "source": [
    "grid.best_score_"
   ]
  },
  {
   "cell_type": "code",
   "execution_count": 122,
   "id": "83e14d2f",
   "metadata": {},
   "outputs": [
    {
     "data": {
      "text/plain": [
       "VotingClassifier(estimators=[('svc',\n",
       "                              SVC(C=100, kernel='sigmoid', probability=True)),\n",
       "                             ('rf',\n",
       "                              RandomForestClassifier(max_depth=90,\n",
       "                                                     max_features=3,\n",
       "                                                     min_samples_leaf=4,\n",
       "                                                     min_samples_split=10,\n",
       "                                                     n_estimators=300))],\n",
       "                 voting='soft')"
      ]
     },
     "execution_count": 122,
     "metadata": {},
     "output_type": "execute_result"
    }
   ],
   "source": [
    "grid.best_estimator_\n"
   ]
  },
  {
   "cell_type": "code",
   "execution_count": 177,
   "id": "22b68993",
   "metadata": {},
   "outputs": [],
   "source": [
    "params = {'svc__C': [0.1],\n",
    "          'svc__kernel': ['rbf'],\n",
    "          'rf__max_depth': [100],\n",
    "          'rf__max_features': [10],\n",
    "          'rf__n_estimators': [100],\n",
    "          \n",
    "         }\n"
   ]
  },
  {
   "cell_type": "markdown",
   "id": "f00fd4a9",
   "metadata": {},
   "source": [
    "# 0.5857142857142857"
   ]
  },
  {
   "cell_type": "code",
   "execution_count": 125,
   "id": "c93e8ef9",
   "metadata": {},
   "outputs": [],
   "source": [
    "highscore = {'svc__C': [100],\n",
    "          'svc__kernel': ['sigmoid'],\n",
    "          'rf__max_depth': [90],\n",
    "          'rf__max_features': [2],\n",
    "          'rf__n_estimators': [100],\n",
    "          \n",
    "         }\n"
   ]
  },
  {
   "cell_type": "code",
   "execution_count": null,
   "id": "7e4bf3df",
   "metadata": {},
   "outputs": [],
   "source": [
    "VotingClassifier(estimators=[('svc', SVC(C=0.1, probability=True)),\n",
    "                             ('rf',\n",
    "                              RandomForestClassifier(max_depth=100,\n",
    "                                                     max_features=10))],\n",
    "                 voting='soft')"
   ]
  },
  {
   "cell_type": "code",
   "execution_count": null,
   "id": "239b320c",
   "metadata": {},
   "outputs": [],
   "source": [
    "VotingClassifier(estimators=[('svc',\n",
    "                              SVC(C=100, kernel='sigmoid', probability=True)),\n",
    "                             ('rf',\n",
    "                              RandomForestClassifier(max_depth=80,\n",
    "                                                     max_features=10))],\n",
    "                 voting='soft')"
   ]
  },
  {
   "cell_type": "code",
   "execution_count": 144,
   "id": "73c24328",
   "metadata": {},
   "outputs": [],
   "source": [
    "higherscore = {'rf__max_depth':[90],\n",
    "              'rf__max_features':[2],\n",
    "              'rf__n_estimators':[100],\n",
    "               'svc__C':[100],\n",
    "               'svc__kernel':['rbf'],}"
   ]
  },
  {
   "cell_type": "code",
   "execution_count": null,
   "id": "83bd3446",
   "metadata": {},
   "outputs": [],
   "source": [
    "rf__max_depth': 90, 'rf__max_features': 2, 'rf__n_estimators': 100, 'svc__C': 100, 'svc__kernel': 'rbf'"
   ]
  },
  {
   "cell_type": "code",
   "execution_count": null,
   "id": "bb5517b1",
   "metadata": {},
   "outputs": [],
   "source": []
  },
  {
   "cell_type": "code",
   "execution_count": null,
   "id": "7740cfb9",
   "metadata": {},
   "outputs": [],
   "source": []
  },
  {
   "cell_type": "markdown",
   "id": "a88b2451",
   "metadata": {},
   "source": [
    "# best grid "
   ]
  },
  {
   "cell_type": "code",
   "execution_count": null,
   "id": "9d49b2cd",
   "metadata": {},
   "outputs": [],
   "source": [
    "VotingClassifier(estimators=[('svc',\n",
    "                              SVC(C=0.1, kernel='sigmoid', probability=True)),\n",
    "                             ('rf',\n",
    "                              RandomForestClassifier(max_depth=80,\n",
    "                                                     max_features=3))],\n",
    "                 voting='soft')"
   ]
  },
  {
   "cell_type": "code",
   "execution_count": null,
   "id": "74a3bc30",
   "metadata": {},
   "outputs": [],
   "source": []
  },
  {
   "cell_type": "code",
   "execution_count": null,
   "id": "3b8cc378",
   "metadata": {},
   "outputs": [],
   "source": []
  }
 ],
 "metadata": {
  "kernelspec": {
   "display_name": "Python 3 (ipykernel)",
   "language": "python",
   "name": "python3"
  },
  "language_info": {
   "codemirror_mode": {
    "name": "ipython",
    "version": 3
   },
   "file_extension": ".py",
   "mimetype": "text/x-python",
   "name": "python",
   "nbconvert_exporter": "python",
   "pygments_lexer": "ipython3",
   "version": "3.8.6"
  },
  "toc": {
   "base_numbering": 1,
   "nav_menu": {},
   "number_sections": true,
   "sideBar": true,
   "skip_h1_title": false,
   "title_cell": "Table of Contents",
   "title_sidebar": "Contents",
   "toc_cell": false,
   "toc_position": {},
   "toc_section_display": true,
   "toc_window_display": false
  }
 },
 "nbformat": 4,
 "nbformat_minor": 5
}
