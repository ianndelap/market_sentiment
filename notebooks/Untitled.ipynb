{
 "cells": [
  {
   "cell_type": "code",
   "execution_count": 1,
   "id": "7fb52af2",
   "metadata": {},
   "outputs": [],
   "source": [
    "import pandas as pd\n",
    "import matplotlib.pyplot as plt\n",
    "from scipy import stats\n",
    "import seaborn as sns\n",
    "import tensorflow_hub as hub\n",
    "import numpy as np\n",
    "import tensorflow_text"
   ]
  },
  {
   "cell_type": "code",
   "execution_count": 2,
   "id": "64f64679",
   "metadata": {},
   "outputs": [],
   "source": [
    "my_path = '/Users/munjikahalah/code/market_sentiment/raw_data/dump.json'"
   ]
  },
  {
   "cell_type": "code",
   "execution_count": 3,
   "id": "f247ef50",
   "metadata": {},
   "outputs": [],
   "source": [
    "df = pd.read_json(my_path, nrows=1000, lines=True)"
   ]
  },
  {
   "cell_type": "code",
   "execution_count": 4,
   "id": "935a0ea6",
   "metadata": {},
   "outputs": [
    {
     "name": "stdout",
     "output_type": "stream",
     "text": [
      "<class 'pandas.core.frame.DataFrame'>\n",
      "RangeIndex: 1000 entries, 0 to 999\n",
      "Data columns (total 33 columns):\n",
      " #   Column                     Non-Null Count  Dtype              \n",
      "---  ------                     --------------  -----              \n",
      " 0   essid                      1000 non-null   object             \n",
      " 1   wit                        1000 non-null   object             \n",
      " 2   custom_query               1000 non-null   object             \n",
      " 3   id_str                     1000 non-null   int64              \n",
      " 4   created_at                 1000 non-null   datetime64[ns, UTC]\n",
      " 5   full_text                  1000 non-null   object             \n",
      " 6   source                     1000 non-null   object             \n",
      " 7   user_id_str                1000 non-null   int64              \n",
      " 8   lang                       1000 non-null   object             \n",
      " 9   favorite_count             1000 non-null   int64              \n",
      " 10  reply_count                1000 non-null   int64              \n",
      " 11  retweet_count              1000 non-null   int64              \n",
      " 12  quote_count                1000 non-null   int64              \n",
      " 13  limited_actions            0 non-null      float64            \n",
      " 14  geo                        0 non-null      float64            \n",
      " 15  place                      4 non-null      object             \n",
      " 16  coordinates                0 non-null      float64            \n",
      " 17  conversation_id_str        1000 non-null   int64              \n",
      " 18  in_reply_to_status_id_str  111 non-null    float64            \n",
      " 19  in_reply_to_user_id_str    123 non-null    float64            \n",
      " 20  in_reply_to_screen_name    123 non-null    object             \n",
      " 21  quoted_status_id_str       70 non-null     float64            \n",
      " 22  forward_pivot              0 non-null      float64            \n",
      " 23  symbols                    968 non-null    object             \n",
      " 24  name                       1000 non-null   object             \n",
      " 25  screen_name                1000 non-null   object             \n",
      " 26  datetimestamp              1000 non-null   int64              \n",
      " 27  urls                       399 non-null    object             \n",
      " 28  quoted_user_id_str         67 non-null     float64            \n",
      " 29  quoted_user_screen_name    67 non-null     object             \n",
      " 30  media                      357 non-null    object             \n",
      " 31  hashtags                   534 non-null    object             \n",
      " 32  user_mentions              162 non-null    object             \n",
      "dtypes: datetime64[ns, UTC](1), float64(8), int64(8), object(16)\n",
      "memory usage: 257.9+ KB\n"
     ]
    }
   ],
   "source": [
    "df.info()"
   ]
  },
  {
   "cell_type": "code",
   "execution_count": 5,
   "id": "4668b618",
   "metadata": {},
   "outputs": [
    {
     "data": {
      "text/plain": [
       "Index(['essid', 'wit', 'custom_query', 'id_str', 'created_at', 'full_text',\n",
       "       'source', 'user_id_str', 'lang', 'favorite_count', 'reply_count',\n",
       "       'retweet_count', 'quote_count', 'limited_actions', 'geo', 'place',\n",
       "       'coordinates', 'conversation_id_str', 'in_reply_to_status_id_str',\n",
       "       'in_reply_to_user_id_str', 'in_reply_to_screen_name',\n",
       "       'quoted_status_id_str', 'forward_pivot', 'symbols', 'name',\n",
       "       'screen_name', 'datetimestamp', 'urls', 'quoted_user_id_str',\n",
       "       'quoted_user_screen_name', 'media', 'hashtags', 'user_mentions'],\n",
       "      dtype='object')"
      ]
     },
     "execution_count": 5,
     "metadata": {},
     "output_type": "execute_result"
    }
   ],
   "source": [
    "df.columns"
   ]
  },
  {
   "cell_type": "code",
   "execution_count": 6,
   "id": "29079667",
   "metadata": {},
   "outputs": [],
   "source": [
    "cleaned_df = df[[\"full_text\",\"favorite_count\",\"symbols\",\"datetimestamp\",\"created_at\",\"lang\"]]"
   ]
  },
  {
   "cell_type": "code",
   "execution_count": 7,
   "id": "e95b7bca",
   "metadata": {},
   "outputs": [],
   "source": [
    "pd.set_option(\"display.max_colwidth\", None) "
   ]
  },
  {
   "cell_type": "code",
   "execution_count": 8,
   "id": "4e5a891e",
   "metadata": {},
   "outputs": [
    {
     "data": {
      "text/html": [
       "<div>\n",
       "<style scoped>\n",
       "    .dataframe tbody tr th:only-of-type {\n",
       "        vertical-align: middle;\n",
       "    }\n",
       "\n",
       "    .dataframe tbody tr th {\n",
       "        vertical-align: top;\n",
       "    }\n",
       "\n",
       "    .dataframe thead th {\n",
       "        text-align: right;\n",
       "    }\n",
       "</style>\n",
       "<table border=\"1\" class=\"dataframe\">\n",
       "  <thead>\n",
       "    <tr style=\"text-align: right;\">\n",
       "      <th></th>\n",
       "      <th>full_text</th>\n",
       "    </tr>\n",
       "  </thead>\n",
       "  <tbody>\n",
       "    <tr>\n",
       "      <th>0</th>\n",
       "      <td>Расцвет человеческого общества зависит от двух факторов: наличия интеллектуальной мощи выдающихся людей и способности этих и других людей сделать их идеологии приятными для большинства.\\n\\n$btc\\n\\n $alts $wan $strat $mtl $nano $nkn $kmd $zrx $zec $zen $loki $bat $gnt $dnt</td>\n",
       "    </tr>\n",
       "    <tr>\n",
       "      <th>1</th>\n",
       "      <td>I’m waiting for the volatility to settle with $btc</td>\n",
       "    </tr>\n",
       "    <tr>\n",
       "      <th>2</th>\n",
       "      <td>Buy $BTC this is not a fucking drill</td>\n",
       "    </tr>\n",
       "    <tr>\n",
       "      <th>3</th>\n",
       "      <td>$btc $btcusd nvm, 8,8k target hit</td>\n",
       "    </tr>\n",
       "    <tr>\n",
       "      <th>4</th>\n",
       "      <td>Mar 8, 2020 03:12:00 UTC The price of $BTC currently is $8762.10</td>\n",
       "    </tr>\n",
       "    <tr>\n",
       "      <th>...</th>\n",
       "      <td>...</td>\n",
       "    </tr>\n",
       "    <tr>\n",
       "      <th>995</th>\n",
       "      <td>14時51分 \\n仮想通貨取引所Binance出資の SafePal ハードウォレットが発売開始!\\n現在SFPは次のエアドロはOOE!ハードウォレット保有者エアドロが申請できる!\\n\\n$BTC $FLOW  $SFP \\n Binance通貨ペア:SFP/USDT\\n 現在価格:$3.338\\nhttps://t.co/1kIoubGHBV</td>\n",
       "    </tr>\n",
       "    <tr>\n",
       "      <th>996</th>\n",
       "      <td>He posts paid recommendations for free! He has 44X for month\\nI am stunned at the profit. You should follow right now @gem_detecter\\n\\n $mana $nexo $zil $klay $ele $btcb $eth $vet $xem $stx $rbc $free $btg $sol $celo $dat $trx $btmx $dent $leo $xmr $buy $eos $uni $btc $dgb $cake</td>\n",
       "    </tr>\n",
       "    <tr>\n",
       "      <th>997</th>\n",
       "      <td>Unusual #volume spike in $FTTBTC\\n\\n17 times the average volume in $FTT - $BTC pair</td>\n",
       "    </tr>\n",
       "    <tr>\n",
       "      <th>998</th>\n",
       "      <td>ang sarap niyoooo $ETH $BTC</td>\n",
       "    </tr>\n",
       "    <tr>\n",
       "      <th>999</th>\n",
       "      <td>Dump season can start now!\\n$btc $eth $xrp\\n\\nSo that we can build the next floor!</td>\n",
       "    </tr>\n",
       "  </tbody>\n",
       "</table>\n",
       "<p>1000 rows × 1 columns</p>\n",
       "</div>"
      ],
      "text/plain": [
       "                                                                                                                                                                                                                                                                                   full_text\n",
       "0           Расцвет человеческого общества зависит от двух факторов: наличия интеллектуальной мощи выдающихся людей и способности этих и других людей сделать их идеологии приятными для большинства.\\n\\n$btc\\n\\n $alts $wan $strat $mtl $nano $nkn $kmd $zrx $zec $zen $loki $bat $gnt $dnt\n",
       "1                                                                                                                                                                                                                                         I’m waiting for the volatility to settle with $btc\n",
       "2                                                                                                                                                                                                                                                       Buy $BTC this is not a fucking drill\n",
       "3                                                                                                                                                                                                                                                          $btc $btcusd nvm, 8,8k target hit\n",
       "4                                                                                                                                                                                                                           Mar 8, 2020 03:12:00 UTC The price of $BTC currently is $8762.10\n",
       "..                                                                                                                                                                                                                                                                                       ...\n",
       "995                                                                                                            14時51分 \\n仮想通貨取引所Binance出資の SafePal ハードウォレットが発売開始!\\n現在SFPは次のエアドロはOOE!ハードウォレット保有者エアドロが申請できる!\\n\\n$BTC $FLOW  $SFP \\n Binance通貨ペア:SFP/USDT\\n 現在価格:$3.338\\nhttps://t.co/1kIoubGHBV\n",
       "996  He posts paid recommendations for free! He has 44X for month\\nI am stunned at the profit. You should follow right now @gem_detecter\\n\\n $mana $nexo $zil $klay $ele $btcb $eth $vet $xem $stx $rbc $free $btg $sol $celo $dat $trx $btmx $dent $leo $xmr $buy $eos $uni $btc $dgb $cake\n",
       "997                                                                                                                                                                                                      Unusual #volume spike in $FTTBTC\\n\\n17 times the average volume in $FTT - $BTC pair\n",
       "998                                                                                                                                                                                                                                                              ang sarap niyoooo $ETH $BTC\n",
       "999                                                                                                                                                                                                       Dump season can start now!\\n$btc $eth $xrp\\n\\nSo that we can build the next floor!\n",
       "\n",
       "[1000 rows x 1 columns]"
      ]
     },
     "execution_count": 8,
     "metadata": {},
     "output_type": "execute_result"
    }
   ],
   "source": [
    "# cleaning means removing \\n \n",
    "cleaned_df[['full_text']] "
   ]
  },
  {
   "cell_type": "markdown",
   "id": "1edd5212",
   "metadata": {},
   "source": [
    "# Let's clean up the full text"
   ]
  },
  {
   "cell_type": "code",
   "execution_count": 9,
   "id": "1d06b792",
   "metadata": {},
   "outputs": [
    {
     "name": "stderr",
     "output_type": "stream",
     "text": [
      "/var/folders/fw/j6mc6mcd20379_z864ff2bfw0000gn/T/ipykernel_7110/3674915676.py:9: SettingWithCopyWarning: \n",
      "A value is trying to be set on a copy of a slice from a DataFrame.\n",
      "Try using .loc[row_indexer,col_indexer] = value instead\n",
      "\n",
      "See the caveats in the documentation: https://pandas.pydata.org/pandas-docs/stable/user_guide/indexing.html#returning-a-view-versus-a-copy\n",
      "  cleaned_df[\"full_text\"] = cleaned_df[\"full_text\"].apply(replacen)\n",
      "/var/folders/fw/j6mc6mcd20379_z864ff2bfw0000gn/T/ipykernel_7110/3674915676.py:10: SettingWithCopyWarning: \n",
      "A value is trying to be set on a copy of a slice from a DataFrame.\n",
      "Try using .loc[row_indexer,col_indexer] = value instead\n",
      "\n",
      "See the caveats in the documentation: https://pandas.pydata.org/pandas-docs/stable/user_guide/indexing.html#returning-a-view-versus-a-copy\n",
      "  cleaned_df[\"full_text\"] = cleaned_df[\"full_text\"].apply(replacer)\n",
      "/var/folders/fw/j6mc6mcd20379_z864ff2bfw0000gn/T/ipykernel_7110/3674915676.py:11: SettingWithCopyWarning: \n",
      "A value is trying to be set on a copy of a slice from a DataFrame.\n",
      "Try using .loc[row_indexer,col_indexer] = value instead\n",
      "\n",
      "See the caveats in the documentation: https://pandas.pydata.org/pandas-docs/stable/user_guide/indexing.html#returning-a-view-versus-a-copy\n",
      "  cleaned_df[\"full_text\"] = cleaned_df[\"full_text\"].apply(replacern)\n"
     ]
    }
   ],
   "source": [
    "def replacen(x):\n",
    "    return x.replace(\"\\n\",\"\")\n",
    "def replacer(x):\n",
    "    return x.replace(\"\\r\",\"\")\n",
    "def replacern(x):\n",
    "    return x.replace(\"\\r\\n\",\"\")\n",
    "    \n",
    "\n",
    "cleaned_df[\"full_text\"] = cleaned_df[\"full_text\"].apply(replacen)\n",
    "cleaned_df[\"full_text\"] = cleaned_df[\"full_text\"].apply(replacer)\n",
    "cleaned_df[\"full_text\"] = cleaned_df[\"full_text\"].apply(replacern)"
   ]
  },
  {
   "cell_type": "code",
   "execution_count": 10,
   "id": "e1c2efc2",
   "metadata": {},
   "outputs": [],
   "source": [
    "import re\n",
    "def remove_urls(text):\n",
    "    text = re.sub(r'https?://\\S+', '', text)\n",
    "    return text"
   ]
  },
  {
   "cell_type": "code",
   "execution_count": 11,
   "id": "ec035565",
   "metadata": {},
   "outputs": [],
   "source": [
    "def remove_mention(text):\n",
    "    text = re.sub(r'@\\S+',\"\", text)\n",
    "    return text"
   ]
  },
  {
   "cell_type": "code",
   "execution_count": 12,
   "id": "8ef6c2e2",
   "metadata": {},
   "outputs": [
    {
     "name": "stderr",
     "output_type": "stream",
     "text": [
      "/var/folders/fw/j6mc6mcd20379_z864ff2bfw0000gn/T/ipykernel_7110/3155825872.py:1: SettingWithCopyWarning: \n",
      "A value is trying to be set on a copy of a slice from a DataFrame.\n",
      "Try using .loc[row_indexer,col_indexer] = value instead\n",
      "\n",
      "See the caveats in the documentation: https://pandas.pydata.org/pandas-docs/stable/user_guide/indexing.html#returning-a-view-versus-a-copy\n",
      "  cleaned_df[\"full_text\"] = cleaned_df[\"full_text\"].apply(remove_urls)\n"
     ]
    }
   ],
   "source": [
    "cleaned_df[\"full_text\"] = cleaned_df[\"full_text\"].apply(remove_urls)"
   ]
  },
  {
   "cell_type": "code",
   "execution_count": 13,
   "id": "8402185e",
   "metadata": {},
   "outputs": [
    {
     "name": "stderr",
     "output_type": "stream",
     "text": [
      "/var/folders/fw/j6mc6mcd20379_z864ff2bfw0000gn/T/ipykernel_7110/2187274162.py:1: SettingWithCopyWarning: \n",
      "A value is trying to be set on a copy of a slice from a DataFrame.\n",
      "Try using .loc[row_indexer,col_indexer] = value instead\n",
      "\n",
      "See the caveats in the documentation: https://pandas.pydata.org/pandas-docs/stable/user_guide/indexing.html#returning-a-view-versus-a-copy\n",
      "  cleaned_df['full_text'] = cleaned_df['full_text'].apply(remove_mention)\n"
     ]
    }
   ],
   "source": [
    "cleaned_df['full_text'] = cleaned_df['full_text'].apply(remove_mention)"
   ]
  },
  {
   "cell_type": "markdown",
   "id": "c0091d45",
   "metadata": {},
   "source": [
    "# Embedding the full text"
   ]
  },
  {
   "cell_type": "markdown",
   "id": "2b3a516a",
   "metadata": {},
   "source": [
    "<p>The <b>Universal Sentence Encoder</b> encodes text into high dimensional vectors that can be used for text classification, semantic similarity, clustering, and other natural language tasks.  </p>"
   ]
  },
  {
   "cell_type": "code",
   "execution_count": 14,
   "id": "e5204c76",
   "metadata": {},
   "outputs": [],
   "source": [
    "# Compute similarity matrix. Higher score indicates greater similarity."
   ]
  },
  {
   "cell_type": "code",
   "execution_count": 15,
   "id": "d6244e40",
   "metadata": {},
   "outputs": [
    {
     "name": "stderr",
     "output_type": "stream",
     "text": [
      "2021-08-31 17:52:38.512164: I tensorflow/core/platform/cpu_feature_guard.cc:142] This TensorFlow binary is optimized with oneAPI Deep Neural Network Library (oneDNN) to use the following CPU instructions in performance-critical operations:  AVX2 FMA\n",
      "To enable them in other operations, rebuild TensorFlow with the appropriate compiler flags.\n",
      "2021-08-31 17:52:40.842299: I tensorflow/compiler/mlir/mlir_graph_optimization_pass.cc:185] None of the MLIR Optimization Passes are enabled (registered 2)\n"
     ]
    }
   ],
   "source": [
    "embed = hub.load(\"https://tfhub.dev/google/universal-sentence-encoder-multilingual/3\")"
   ]
  },
  {
   "cell_type": "code",
   "execution_count": 16,
   "id": "36769791",
   "metadata": {},
   "outputs": [],
   "source": [
    "text_result = embed(cleaned_df['full_text'])"
   ]
  },
  {
   "cell_type": "code",
   "execution_count": 17,
   "id": "248795b7",
   "metadata": {},
   "outputs": [
    {
     "data": {
      "text/plain": [
       "<tf.Tensor: shape=(1000, 512), dtype=float32, numpy=\n",
       "array([[-3.8991722e-05, -4.8648175e-02, -4.3248527e-02, ...,\n",
       "        -9.4580296e-03,  1.3665353e-02,  5.4488266e-03],\n",
       "       [-8.8084355e-04,  6.8153441e-03, -1.0401447e-01, ...,\n",
       "        -1.2548758e-02, -1.2986713e-02,  7.2317384e-02],\n",
       "       [ 5.6798907e-04,  2.9366117e-02, -8.4870160e-02, ...,\n",
       "        -4.3410663e-02, -1.6758954e-02,  6.1772242e-02],\n",
       "       ...,\n",
       "       [-1.2906455e-02,  4.4212304e-02, -7.6317273e-02, ...,\n",
       "         4.6992496e-02,  3.0902388e-02, -2.3589913e-02],\n",
       "       [ 6.2296912e-02,  5.5472460e-02, -5.7971947e-02, ...,\n",
       "         1.9577026e-02, -1.9346960e-02,  8.5633971e-02],\n",
       "       [-2.0291638e-02, -4.8588816e-02,  4.3813037e-03, ...,\n",
       "        -4.1874420e-02,  4.1799083e-02, -1.6039994e-02]], dtype=float32)>"
      ]
     },
     "execution_count": 17,
     "metadata": {},
     "output_type": "execute_result"
    }
   ],
   "source": [
    "text_result"
   ]
  },
  {
   "cell_type": "code",
   "execution_count": 18,
   "id": "8bf1073d",
   "metadata": {},
   "outputs": [],
   "source": [
    "our_matrix = np.inner(text_result, text_result)"
   ]
  },
  {
   "cell_type": "code",
   "execution_count": 19,
   "id": "7f980e04",
   "metadata": {},
   "outputs": [
    {
     "data": {
      "text/plain": [
       "array([[0.9999998 , 0.1860455 , 0.24620427, ..., 0.2873267 , 0.278975  ,\n",
       "        0.21145463],\n",
       "       [0.1860455 , 1.        , 0.49706998, ..., 0.5015484 , 0.4572426 ,\n",
       "        0.3117342 ],\n",
       "       [0.24620427, 0.49706998, 0.9999999 , ..., 0.46174467, 0.46286118,\n",
       "        0.30303806],\n",
       "       ...,\n",
       "       [0.2873267 , 0.5015484 , 0.46174467, ..., 0.9999996 , 0.31949338,\n",
       "        0.23571685],\n",
       "       [0.278975  , 0.4572426 , 0.46286118, ..., 0.31949338, 1.0000001 ,\n",
       "        0.2848332 ],\n",
       "       [0.21145463, 0.3117342 , 0.30303806, ..., 0.23571685, 0.2848332 ,\n",
       "        0.99999964]], dtype=float32)"
      ]
     },
     "execution_count": 19,
     "metadata": {},
     "output_type": "execute_result"
    }
   ],
   "source": [
    "our_matrix"
   ]
  },
  {
   "cell_type": "code",
   "execution_count": 20,
   "id": "99b301e5",
   "metadata": {},
   "outputs": [],
   "source": [
    "import yfinance as yf"
   ]
  },
  {
   "cell_type": "code",
   "execution_count": 21,
   "id": "ee22a970",
   "metadata": {},
   "outputs": [
    {
     "name": "stdout",
     "output_type": "stream",
     "text": [
      "[*********************100%***********************]  4 of 4 completed\n"
     ]
    }
   ],
   "source": [
    "tickers = yf.download(tickers = 'INTC BYND GE BTC', interval='1d',start=\"2018-01-01\", end=\"2021-08-01\")"
   ]
  },
  {
   "cell_type": "code",
   "execution_count": 27,
   "id": "7c232413",
   "metadata": {},
   "outputs": [],
   "source": [
    "difference = tickers['Close']['GE'].diff()"
   ]
  },
  {
   "cell_type": "code",
   "execution_count": 26,
   "id": "031f6602",
   "metadata": {},
   "outputs": [],
   "source": [
    "def one_or_zero(number):\n",
    "    if number < 0:\n",
    "        return 0\n",
    "    else:\n",
    "        return 1 "
   ]
  },
  {
   "cell_type": "code",
   "execution_count": 29,
   "id": "169215c4",
   "metadata": {},
   "outputs": [
    {
     "data": {
      "text/plain": [
       "Date\n",
       "2018-01-02    1\n",
       "2018-01-03    1\n",
       "2018-01-04    1\n",
       "2018-01-05    1\n",
       "2018-01-08    0\n",
       "             ..\n",
       "2021-07-26    1\n",
       "2021-07-27    1\n",
       "2021-07-28    1\n",
       "2021-07-29    1\n",
       "2021-07-30    0\n",
       "Name: GE, Length: 901, dtype: int64"
      ]
     },
     "execution_count": 29,
     "metadata": {},
     "output_type": "execute_result"
    }
   ],
   "source": [
    "difference.apply(one_or_zero)"
   ]
  },
  {
   "cell_type": "code",
   "execution_count": 31,
   "id": "60762dec",
   "metadata": {},
   "outputs": [],
   "source": [
    "ge_stock = tickers['Close']['GE']"
   ]
  },
  {
   "cell_type": "code",
   "execution_count": 33,
   "id": "03d37866",
   "metadata": {},
   "outputs": [],
   "source": [
    "the_difference = ge_stock.diff()"
   ]
  },
  {
   "cell_type": "code",
   "execution_count": 38,
   "id": "e2e3100b",
   "metadata": {},
   "outputs": [
    {
     "data": {
      "text/plain": [
       "DatetimeIndex(['2018-01-02', '2018-01-03', '2018-01-04', '2018-01-05',\n",
       "               '2018-01-08', '2018-01-09', '2018-01-10', '2018-01-11',\n",
       "               '2018-01-12', '2018-01-16',\n",
       "               ...\n",
       "               '2021-07-19', '2021-07-20', '2021-07-21', '2021-07-22',\n",
       "               '2021-07-23', '2021-07-26', '2021-07-27', '2021-07-28',\n",
       "               '2021-07-29', '2021-07-30'],\n",
       "              dtype='datetime64[ns]', name='Date', length=901, freq=None)"
      ]
     },
     "execution_count": 38,
     "metadata": {},
     "output_type": "execute_result"
    }
   ],
   "source": [
    "the_difference.index"
   ]
  },
  {
   "cell_type": "code",
   "execution_count": 37,
   "id": "6b00fc2e",
   "metadata": {},
   "outputs": [
    {
     "data": {
      "text/plain": [
       "full_text                      object\n",
       "favorite_count                  int64\n",
       "symbols                        object\n",
       "datetimestamp                   int64\n",
       "created_at        datetime64[ns, UTC]\n",
       "lang                           object\n",
       "dtype: object"
      ]
     },
     "execution_count": 37,
     "metadata": {},
     "output_type": "execute_result"
    }
   ],
   "source": [
    "cleaned_df.dtypes"
   ]
  },
  {
   "cell_type": "code",
   "execution_count": null,
   "id": "646c6722",
   "metadata": {},
   "outputs": [],
   "source": []
  }
 ],
 "metadata": {
  "kernelspec": {
   "display_name": "Python 3 (ipykernel)",
   "language": "python",
   "name": "python3"
  },
  "language_info": {
   "codemirror_mode": {
    "name": "ipython",
    "version": 3
   },
   "file_extension": ".py",
   "mimetype": "text/x-python",
   "name": "python",
   "nbconvert_exporter": "python",
   "pygments_lexer": "ipython3",
   "version": "3.8.6"
  },
  "toc": {
   "base_numbering": 1,
   "nav_menu": {},
   "number_sections": true,
   "sideBar": true,
   "skip_h1_title": false,
   "title_cell": "Table of Contents",
   "title_sidebar": "Contents",
   "toc_cell": false,
   "toc_position": {},
   "toc_section_display": true,
   "toc_window_display": false
  }
 },
 "nbformat": 4,
 "nbformat_minor": 5
}
