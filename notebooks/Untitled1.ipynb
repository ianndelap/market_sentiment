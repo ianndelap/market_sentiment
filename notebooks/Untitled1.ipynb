{
 "cells": [
  {
   "cell_type": "code",
   "execution_count": 1,
   "id": "94f413a7",
   "metadata": {},
   "outputs": [],
   "source": [
    "import tweepy\n",
    "import pandas as pd\n",
    "import re"
   ]
  },
  {
   "cell_type": "code",
   "execution_count": 2,
   "id": "8c2d3392",
   "metadata": {},
   "outputs": [],
   "source": [
    "consumer_key= \"Aab7LOGZyppaFPNDQCdZ44yK7\"\n",
    "consumer_secret = \"CYdlRUzGTAPVrQdaa0XfuoTeDNyo1EHb2AuDsoevmlwWTYUkFM\"\n",
    "\n",
    "access_token = \"2182508549-jVF957pWQp2znpsd0kw54soL7TZkFwrJsQTusNV\"\n",
    "\n",
    "access_token_secret= \"HW9mwAvbO4KnwgZmk7C4LZa2mKqvTorHPokLeSHRF0FKE\""
   ]
  },
  {
   "cell_type": "code",
   "execution_count": 3,
   "id": "6e0f40f9",
   "metadata": {},
   "outputs": [],
   "source": [
    "auth = tweepy.OAuthHandler(consumer_key, consumer_secret )\n",
    "auth.set_access_token(access_token, access_token_secret)\n",
    "api = tweepy.API(auth)"
   ]
  },
  {
   "cell_type": "code",
   "execution_count": 4,
   "id": "49ed2887",
   "metadata": {},
   "outputs": [],
   "source": [
    "tweets_GE = api.search(q =\"$GE\", count = 500)\n",
    "tweets_BYND = api.search(q =\"$BYND\", count = 500)\n",
    "tweets_INTC = api.search(q =\"$INTC\", count = 1000)\n",
    "tweets_BTC = api.search(q =\"$BTC\", count = 1000)"
   ]
  },
  {
   "cell_type": "code",
   "execution_count": 5,
   "id": "beae92d1",
   "metadata": {},
   "outputs": [],
   "source": [
    "tweets_GE_list = []\n",
    "tweets_BYND_list = []\n",
    "tweets_INTC_list = []\n",
    "tweets_BTC_list = []\n",
    "symbols_list = []"
   ]
  },
  {
   "cell_type": "code",
   "execution_count": 6,
   "id": "6e17520e",
   "metadata": {},
   "outputs": [],
   "source": [
    "json_data_GE = [r._json for r in tweets_GE]\n",
    "json_data_BYND = [r._json for r in tweets_BYND]\n",
    "json_data_BTC = [r._json for r in tweets_BTC]\n",
    "json_data_INTC = [r._json for r in tweets_INTC]\n"
   ]
  },
  {
   "cell_type": "code",
   "execution_count": 7,
   "id": "9f4904af",
   "metadata": {},
   "outputs": [
    {
     "data": {
      "text/plain": [
       "[]"
      ]
     },
     "execution_count": 7,
     "metadata": {},
     "output_type": "execute_result"
    }
   ],
   "source": [
    "symbols_list"
   ]
  },
  {
   "cell_type": "code",
   "execution_count": 8,
   "id": "b0c2be18",
   "metadata": {},
   "outputs": [
    {
     "data": {
      "text/plain": [
       "{'text': 'GE', 'indices': [17, 20]}"
      ]
     },
     "execution_count": 8,
     "metadata": {},
     "output_type": "execute_result"
    }
   ],
   "source": [
    "json_data_GE[0]['entities']['symbols'][0]"
   ]
  },
  {
   "cell_type": "code",
   "execution_count": 13,
   "id": "93c7eaea",
   "metadata": {},
   "outputs": [],
   "source": [
    "for tweet in json_data_GE:\n",
    "    tweets_GE_list.append({'created_at': tweet['created_at'], 'text': tweet['text']})"
   ]
  },
  {
   "cell_type": "code",
   "execution_count": 14,
   "id": "d3e5cd8c",
   "metadata": {},
   "outputs": [],
   "source": [
    "for tweet in json_data_BYND:\n",
    "    tweets_BYND_list.append({'created_at': tweet['created_at'], 'text': tweet['text']})"
   ]
  },
  {
   "cell_type": "code",
   "execution_count": 15,
   "id": "544e4df1",
   "metadata": {},
   "outputs": [],
   "source": [
    "for tweet in json_data_BTC:\n",
    "    tweets_BTC_list.append({'created_at': tweet['created_at'], 'text': tweet['text']})"
   ]
  },
  {
   "cell_type": "code",
   "execution_count": 16,
   "id": "5db65c80",
   "metadata": {},
   "outputs": [],
   "source": [
    "for tweet in json_data_INTC:\n",
    "    tweets_INTC_list.append({'created_at': tweet['created_at'], 'text': tweet['text']})"
   ]
  },
  {
   "cell_type": "code",
   "execution_count": 17,
   "id": "5ae8b6b0",
   "metadata": {},
   "outputs": [],
   "source": [
    "concat_tweets = tweets_GE_list +  tweets_BYND_list + tweets_INTC_list + tweets_BTC_list"
   ]
  },
  {
   "cell_type": "code",
   "execution_count": 18,
   "id": "7ba74c4e",
   "metadata": {},
   "outputs": [],
   "source": [
    "final_df = pd.DataFrame.from_dict(concat_tweets)"
   ]
  },
  {
   "cell_type": "code",
   "execution_count": 19,
   "id": "8bedba5e",
   "metadata": {},
   "outputs": [
    {
     "data": {
      "text/html": [
       "<div>\n",
       "<style scoped>\n",
       "    .dataframe tbody tr th:only-of-type {\n",
       "        vertical-align: middle;\n",
       "    }\n",
       "\n",
       "    .dataframe tbody tr th {\n",
       "        vertical-align: top;\n",
       "    }\n",
       "\n",
       "    .dataframe thead th {\n",
       "        text-align: right;\n",
       "    }\n",
       "</style>\n",
       "<table border=\"1\" class=\"dataframe\">\n",
       "  <thead>\n",
       "    <tr style=\"text-align: right;\">\n",
       "      <th></th>\n",
       "      <th>created_at</th>\n",
       "      <th>text</th>\n",
       "    </tr>\n",
       "  </thead>\n",
       "  <tbody>\n",
       "    <tr>\n",
       "      <th>0</th>\n",
       "      <td>Wed Sep 08 12:55:24 +0000 2021</td>\n",
       "      <td>RT @AlanaNienow: $GE $DAL $CCL $TOPS $SPY\\n\\n\"...</td>\n",
       "    </tr>\n",
       "    <tr>\n",
       "      <th>1</th>\n",
       "      <td>Wed Sep 08 12:55:03 +0000 2021</td>\n",
       "      <td>$GE Momentum has fallen for last 3 days and pr...</td>\n",
       "    </tr>\n",
       "    <tr>\n",
       "      <th>2</th>\n",
       "      <td>Wed Sep 08 12:46:13 +0000 2021</td>\n",
       "      <td>$HTSC, last trade .07. Earnings per share .09....</td>\n",
       "    </tr>\n",
       "    <tr>\n",
       "      <th>3</th>\n",
       "      <td>Wed Sep 08 12:45:15 +0000 2021</td>\n",
       "      <td>$gme $amc $mmat $bbig $cei $doge #dogecoin #wa...</td>\n",
       "    </tr>\n",
       "    <tr>\n",
       "      <th>4</th>\n",
       "      <td>Wed Sep 08 12:44:26 +0000 2021</td>\n",
       "      <td>$gme $amc $mmat $bbig $cei $doge #dogecoin #wa...</td>\n",
       "    </tr>\n",
       "    <tr>\n",
       "      <th>...</th>\n",
       "      <td>...</td>\n",
       "      <td>...</td>\n",
       "    </tr>\n",
       "    <tr>\n",
       "      <th>591</th>\n",
       "      <td>Wed Sep 08 13:21:15 +0000 2021</td>\n",
       "      <td>@baz_star Dump was pretty needed after this hy...</td>\n",
       "    </tr>\n",
       "    <tr>\n",
       "      <th>592</th>\n",
       "      <td>Wed Sep 08 13:21:10 +0000 2021</td>\n",
       "      <td>🧱 INCREASED LIQUIDITY 📢 44 $BTC traded so far ...</td>\n",
       "    </tr>\n",
       "    <tr>\n",
       "      <th>593</th>\n",
       "      <td>Wed Sep 08 13:21:09 +0000 2021</td>\n",
       "      <td>ビットポイント 口座開設だけで500円プレゼント  8月中限定で口座開設するとBTC1000...</td>\n",
       "    </tr>\n",
       "    <tr>\n",
       "      <th>594</th>\n",
       "      <td>Wed Sep 08 13:21:08 +0000 2021</td>\n",
       "      <td>RT @RektProof: $BTC / $USD\\n\\nCurrent gameplan...</td>\n",
       "    </tr>\n",
       "    <tr>\n",
       "      <th>595</th>\n",
       "      <td>Wed Sep 08 13:21:07 +0000 2021</td>\n",
       "      <td>Months later, $BTC is still on track. 🤝 https:...</td>\n",
       "    </tr>\n",
       "  </tbody>\n",
       "</table>\n",
       "<p>596 rows × 2 columns</p>\n",
       "</div>"
      ],
      "text/plain": [
       "                         created_at  \\\n",
       "0    Wed Sep 08 12:55:24 +0000 2021   \n",
       "1    Wed Sep 08 12:55:03 +0000 2021   \n",
       "2    Wed Sep 08 12:46:13 +0000 2021   \n",
       "3    Wed Sep 08 12:45:15 +0000 2021   \n",
       "4    Wed Sep 08 12:44:26 +0000 2021   \n",
       "..                              ...   \n",
       "591  Wed Sep 08 13:21:15 +0000 2021   \n",
       "592  Wed Sep 08 13:21:10 +0000 2021   \n",
       "593  Wed Sep 08 13:21:09 +0000 2021   \n",
       "594  Wed Sep 08 13:21:08 +0000 2021   \n",
       "595  Wed Sep 08 13:21:07 +0000 2021   \n",
       "\n",
       "                                                  text  \n",
       "0    RT @AlanaNienow: $GE $DAL $CCL $TOPS $SPY\\n\\n\"...  \n",
       "1    $GE Momentum has fallen for last 3 days and pr...  \n",
       "2    $HTSC, last trade .07. Earnings per share .09....  \n",
       "3    $gme $amc $mmat $bbig $cei $doge #dogecoin #wa...  \n",
       "4    $gme $amc $mmat $bbig $cei $doge #dogecoin #wa...  \n",
       "..                                                 ...  \n",
       "591  @baz_star Dump was pretty needed after this hy...  \n",
       "592  🧱 INCREASED LIQUIDITY 📢 44 $BTC traded so far ...  \n",
       "593  ビットポイント 口座開設だけで500円プレゼント  8月中限定で口座開設するとBTC1000...  \n",
       "594  RT @RektProof: $BTC / $USD\\n\\nCurrent gameplan...  \n",
       "595  Months later, $BTC is still on track. 🤝 https:...  \n",
       "\n",
       "[596 rows x 2 columns]"
      ]
     },
     "execution_count": 19,
     "metadata": {},
     "output_type": "execute_result"
    }
   ],
   "source": [
    "final_df "
   ]
  },
  {
   "cell_type": "code",
   "execution_count": 20,
   "id": "d1a1eb67",
   "metadata": {},
   "outputs": [],
   "source": [
    "def find_tickers(text):\n",
    "    return re.findall(r'[$][A-Za-z][\\S]*', text)"
   ]
  },
  {
   "cell_type": "code",
   "execution_count": 21,
   "id": "d76646a7",
   "metadata": {},
   "outputs": [],
   "source": [
    "def fix_date_time(df):\n",
    "    \n",
    "    df['created_at'] = pd.to_datetime(df['created_at'])\n",
    "#     df['created_at'] = df['created_at'].dt.date\n",
    "    return df"
   ]
  },
  {
   "cell_type": "code",
   "execution_count": null,
   "id": "2ae7765b",
   "metadata": {},
   "outputs": [],
   "source": [
    "# def df_to_datetime(df):\n",
    "#     df.index = pd.to_datetime(df.index)\n",
    "#     return df"
   ]
  },
  {
   "cell_type": "code",
   "execution_count": null,
   "id": "d83f7e2f",
   "metadata": {
    "scrolled": true
   },
   "outputs": [],
   "source": [
    "# final_df = fix_date_time(final_df)"
   ]
  },
  {
   "cell_type": "code",
   "execution_count": 22,
   "id": "a836879f",
   "metadata": {},
   "outputs": [],
   "source": [
    "final_df = fix_date_time(final_df)"
   ]
  },
  {
   "cell_type": "code",
   "execution_count": 23,
   "id": "bda5ffb8",
   "metadata": {},
   "outputs": [
    {
     "name": "stdout",
     "output_type": "stream",
     "text": [
      "<class 'pandas.core.frame.DataFrame'>\n",
      "RangeIndex: 596 entries, 0 to 595\n",
      "Data columns (total 2 columns):\n",
      " #   Column      Non-Null Count  Dtype              \n",
      "---  ------      --------------  -----              \n",
      " 0   created_at  596 non-null    datetime64[ns, UTC]\n",
      " 1   text        596 non-null    object             \n",
      "dtypes: datetime64[ns, UTC](1), object(1)\n",
      "memory usage: 9.4+ KB\n"
     ]
    }
   ],
   "source": [
    "final_df.info()"
   ]
  },
  {
   "cell_type": "code",
   "execution_count": 24,
   "id": "370a19f6",
   "metadata": {},
   "outputs": [],
   "source": [
    "final_df['symbols'] = final_df['text'].apply(find_tickers)"
   ]
  },
  {
   "cell_type": "code",
   "execution_count": 25,
   "id": "3edab13b",
   "metadata": {},
   "outputs": [
    {
     "data": {
      "text/html": [
       "<div>\n",
       "<style scoped>\n",
       "    .dataframe tbody tr th:only-of-type {\n",
       "        vertical-align: middle;\n",
       "    }\n",
       "\n",
       "    .dataframe tbody tr th {\n",
       "        vertical-align: top;\n",
       "    }\n",
       "\n",
       "    .dataframe thead th {\n",
       "        text-align: right;\n",
       "    }\n",
       "</style>\n",
       "<table border=\"1\" class=\"dataframe\">\n",
       "  <thead>\n",
       "    <tr style=\"text-align: right;\">\n",
       "      <th></th>\n",
       "      <th>created_at</th>\n",
       "      <th>text</th>\n",
       "      <th>symbols</th>\n",
       "    </tr>\n",
       "  </thead>\n",
       "  <tbody>\n",
       "    <tr>\n",
       "      <th>0</th>\n",
       "      <td>2021-09-08 12:55:24+00:00</td>\n",
       "      <td>RT @AlanaNienow: $GE $DAL $CCL $TOPS $SPY\\n\\n\"...</td>\n",
       "      <td>[$GE, $DAL, $CCL, $TOPS, $SPY]</td>\n",
       "    </tr>\n",
       "    <tr>\n",
       "      <th>1</th>\n",
       "      <td>2021-09-08 12:55:03+00:00</td>\n",
       "      <td>$GE Momentum has fallen for last 3 days and pr...</td>\n",
       "      <td>[$GE, $SPX]</td>\n",
       "    </tr>\n",
       "    <tr>\n",
       "      <th>2</th>\n",
       "      <td>2021-09-08 12:46:13+00:00</td>\n",
       "      <td>$HTSC, last trade .07. Earnings per share .09....</td>\n",
       "      <td>[$HTSC,]</td>\n",
       "    </tr>\n",
       "    <tr>\n",
       "      <th>3</th>\n",
       "      <td>2021-09-08 12:45:15+00:00</td>\n",
       "      <td>$gme $amc $mmat $bbig $cei $doge #dogecoin #wa...</td>\n",
       "      <td>[$gme, $amc, $mmat, $bbig, $cei, $doge, $any, ...</td>\n",
       "    </tr>\n",
       "    <tr>\n",
       "      <th>4</th>\n",
       "      <td>2021-09-08 12:44:26+00:00</td>\n",
       "      <td>$gme $amc $mmat $bbig $cei $doge #dogecoin #wa...</td>\n",
       "      <td>[$gme, $amc, $mmat, $bbig, $cei, $doge, $any, ...</td>\n",
       "    </tr>\n",
       "    <tr>\n",
       "      <th>...</th>\n",
       "      <td>...</td>\n",
       "      <td>...</td>\n",
       "      <td>...</td>\n",
       "    </tr>\n",
       "    <tr>\n",
       "      <th>591</th>\n",
       "      <td>2021-09-08 13:21:15+00:00</td>\n",
       "      <td>@baz_star Dump was pretty needed after this hy...</td>\n",
       "      <td>[]</td>\n",
       "    </tr>\n",
       "    <tr>\n",
       "      <th>592</th>\n",
       "      <td>2021-09-08 13:21:10+00:00</td>\n",
       "      <td>🧱 INCREASED LIQUIDITY 📢 44 $BTC traded so far ...</td>\n",
       "      <td>[$BTC]</td>\n",
       "    </tr>\n",
       "    <tr>\n",
       "      <th>593</th>\n",
       "      <td>2021-09-08 13:21:09+00:00</td>\n",
       "      <td>ビットポイント 口座開設だけで500円プレゼント  8月中限定で口座開設するとBTC1000...</td>\n",
       "      <td>[$BTC]</td>\n",
       "    </tr>\n",
       "    <tr>\n",
       "      <th>594</th>\n",
       "      <td>2021-09-08 13:21:08+00:00</td>\n",
       "      <td>RT @RektProof: $BTC / $USD\\n\\nCurrent gameplan...</td>\n",
       "      <td>[$BTC, $USD]</td>\n",
       "    </tr>\n",
       "    <tr>\n",
       "      <th>595</th>\n",
       "      <td>2021-09-08 13:21:07+00:00</td>\n",
       "      <td>Months later, $BTC is still on track. 🤝 https:...</td>\n",
       "      <td>[$BTC]</td>\n",
       "    </tr>\n",
       "  </tbody>\n",
       "</table>\n",
       "<p>596 rows × 3 columns</p>\n",
       "</div>"
      ],
      "text/plain": [
       "                   created_at  \\\n",
       "0   2021-09-08 12:55:24+00:00   \n",
       "1   2021-09-08 12:55:03+00:00   \n",
       "2   2021-09-08 12:46:13+00:00   \n",
       "3   2021-09-08 12:45:15+00:00   \n",
       "4   2021-09-08 12:44:26+00:00   \n",
       "..                        ...   \n",
       "591 2021-09-08 13:21:15+00:00   \n",
       "592 2021-09-08 13:21:10+00:00   \n",
       "593 2021-09-08 13:21:09+00:00   \n",
       "594 2021-09-08 13:21:08+00:00   \n",
       "595 2021-09-08 13:21:07+00:00   \n",
       "\n",
       "                                                  text  \\\n",
       "0    RT @AlanaNienow: $GE $DAL $CCL $TOPS $SPY\\n\\n\"...   \n",
       "1    $GE Momentum has fallen for last 3 days and pr...   \n",
       "2    $HTSC, last trade .07. Earnings per share .09....   \n",
       "3    $gme $amc $mmat $bbig $cei $doge #dogecoin #wa...   \n",
       "4    $gme $amc $mmat $bbig $cei $doge #dogecoin #wa...   \n",
       "..                                                 ...   \n",
       "591  @baz_star Dump was pretty needed after this hy...   \n",
       "592  🧱 INCREASED LIQUIDITY 📢 44 $BTC traded so far ...   \n",
       "593  ビットポイント 口座開設だけで500円プレゼント  8月中限定で口座開設するとBTC1000...   \n",
       "594  RT @RektProof: $BTC / $USD\\n\\nCurrent gameplan...   \n",
       "595  Months later, $BTC is still on track. 🤝 https:...   \n",
       "\n",
       "                                               symbols  \n",
       "0                       [$GE, $DAL, $CCL, $TOPS, $SPY]  \n",
       "1                                          [$GE, $SPX]  \n",
       "2                                             [$HTSC,]  \n",
       "3    [$gme, $amc, $mmat, $bbig, $cei, $doge, $any, ...  \n",
       "4    [$gme, $amc, $mmat, $bbig, $cei, $doge, $any, ...  \n",
       "..                                                 ...  \n",
       "591                                                 []  \n",
       "592                                             [$BTC]  \n",
       "593                                             [$BTC]  \n",
       "594                                       [$BTC, $USD]  \n",
       "595                                             [$BTC]  \n",
       "\n",
       "[596 rows x 3 columns]"
      ]
     },
     "execution_count": 25,
     "metadata": {},
     "output_type": "execute_result"
    }
   ],
   "source": [
    "final_df"
   ]
  },
  {
   "cell_type": "code",
   "execution_count": 26,
   "id": "63b1a079",
   "metadata": {},
   "outputs": [],
   "source": [
    "def remove_dollar(l):\n",
    "    new_list = []\n",
    "    for item in l:\n",
    "        new_list.append(item.replace('$',''))\n",
    "    return new_list\n",
    "    "
   ]
  },
  {
   "cell_type": "code",
   "execution_count": null,
   "id": "cec69daa",
   "metadata": {},
   "outputs": [],
   "source": [
    "type(final_df)"
   ]
  },
  {
   "cell_type": "code",
   "execution_count": 27,
   "id": "64911407",
   "metadata": {},
   "outputs": [],
   "source": [
    "final_df['symbols'] = final_df['symbols'].apply(remove_dollar)"
   ]
  },
  {
   "cell_type": "code",
   "execution_count": 29,
   "id": "30eba7f7",
   "metadata": {},
   "outputs": [
    {
     "data": {
      "text/html": [
       "<div>\n",
       "<style scoped>\n",
       "    .dataframe tbody tr th:only-of-type {\n",
       "        vertical-align: middle;\n",
       "    }\n",
       "\n",
       "    .dataframe tbody tr th {\n",
       "        vertical-align: top;\n",
       "    }\n",
       "\n",
       "    .dataframe thead th {\n",
       "        text-align: right;\n",
       "    }\n",
       "</style>\n",
       "<table border=\"1\" class=\"dataframe\">\n",
       "  <thead>\n",
       "    <tr style=\"text-align: right;\">\n",
       "      <th></th>\n",
       "      <th>created_at</th>\n",
       "      <th>text</th>\n",
       "      <th>symbols</th>\n",
       "    </tr>\n",
       "  </thead>\n",
       "  <tbody>\n",
       "    <tr>\n",
       "      <th>0</th>\n",
       "      <td>2021-09-08 12:55:24+00:00</td>\n",
       "      <td>RT @AlanaNienow: $GE $DAL $CCL $TOPS $SPY\\n\\n\"...</td>\n",
       "      <td>[GE, DAL, CCL, TOPS, SPY]</td>\n",
       "    </tr>\n",
       "    <tr>\n",
       "      <th>1</th>\n",
       "      <td>2021-09-08 12:55:03+00:00</td>\n",
       "      <td>$GE Momentum has fallen for last 3 days and pr...</td>\n",
       "      <td>[GE, SPX]</td>\n",
       "    </tr>\n",
       "    <tr>\n",
       "      <th>2</th>\n",
       "      <td>2021-09-08 12:46:13+00:00</td>\n",
       "      <td>$HTSC, last trade .07. Earnings per share .09....</td>\n",
       "      <td>[HTSC,]</td>\n",
       "    </tr>\n",
       "    <tr>\n",
       "      <th>3</th>\n",
       "      <td>2021-09-08 12:45:15+00:00</td>\n",
       "      <td>$gme $amc $mmat $bbig $cei $doge #dogecoin #wa...</td>\n",
       "      <td>[gme, amc, mmat, bbig, cei, doge, any, kplt, m...</td>\n",
       "    </tr>\n",
       "    <tr>\n",
       "      <th>4</th>\n",
       "      <td>2021-09-08 12:44:26+00:00</td>\n",
       "      <td>$gme $amc $mmat $bbig $cei $doge #dogecoin #wa...</td>\n",
       "      <td>[gme, amc, mmat, bbig, cei, doge, any, kplt, m...</td>\n",
       "    </tr>\n",
       "    <tr>\n",
       "      <th>...</th>\n",
       "      <td>...</td>\n",
       "      <td>...</td>\n",
       "      <td>...</td>\n",
       "    </tr>\n",
       "    <tr>\n",
       "      <th>591</th>\n",
       "      <td>2021-09-08 13:21:15+00:00</td>\n",
       "      <td>@baz_star Dump was pretty needed after this hy...</td>\n",
       "      <td>[]</td>\n",
       "    </tr>\n",
       "    <tr>\n",
       "      <th>592</th>\n",
       "      <td>2021-09-08 13:21:10+00:00</td>\n",
       "      <td>🧱 INCREASED LIQUIDITY 📢 44 $BTC traded so far ...</td>\n",
       "      <td>[BTC]</td>\n",
       "    </tr>\n",
       "    <tr>\n",
       "      <th>593</th>\n",
       "      <td>2021-09-08 13:21:09+00:00</td>\n",
       "      <td>ビットポイント 口座開設だけで500円プレゼント  8月中限定で口座開設するとBTC1000...</td>\n",
       "      <td>[BTC]</td>\n",
       "    </tr>\n",
       "    <tr>\n",
       "      <th>594</th>\n",
       "      <td>2021-09-08 13:21:08+00:00</td>\n",
       "      <td>RT @RektProof: $BTC / $USD\\n\\nCurrent gameplan...</td>\n",
       "      <td>[BTC, USD]</td>\n",
       "    </tr>\n",
       "    <tr>\n",
       "      <th>595</th>\n",
       "      <td>2021-09-08 13:21:07+00:00</td>\n",
       "      <td>Months later, $BTC is still on track. 🤝 https:...</td>\n",
       "      <td>[BTC]</td>\n",
       "    </tr>\n",
       "  </tbody>\n",
       "</table>\n",
       "<p>596 rows × 3 columns</p>\n",
       "</div>"
      ],
      "text/plain": [
       "                   created_at  \\\n",
       "0   2021-09-08 12:55:24+00:00   \n",
       "1   2021-09-08 12:55:03+00:00   \n",
       "2   2021-09-08 12:46:13+00:00   \n",
       "3   2021-09-08 12:45:15+00:00   \n",
       "4   2021-09-08 12:44:26+00:00   \n",
       "..                        ...   \n",
       "591 2021-09-08 13:21:15+00:00   \n",
       "592 2021-09-08 13:21:10+00:00   \n",
       "593 2021-09-08 13:21:09+00:00   \n",
       "594 2021-09-08 13:21:08+00:00   \n",
       "595 2021-09-08 13:21:07+00:00   \n",
       "\n",
       "                                                  text  \\\n",
       "0    RT @AlanaNienow: $GE $DAL $CCL $TOPS $SPY\\n\\n\"...   \n",
       "1    $GE Momentum has fallen for last 3 days and pr...   \n",
       "2    $HTSC, last trade .07. Earnings per share .09....   \n",
       "3    $gme $amc $mmat $bbig $cei $doge #dogecoin #wa...   \n",
       "4    $gme $amc $mmat $bbig $cei $doge #dogecoin #wa...   \n",
       "..                                                 ...   \n",
       "591  @baz_star Dump was pretty needed after this hy...   \n",
       "592  🧱 INCREASED LIQUIDITY 📢 44 $BTC traded so far ...   \n",
       "593  ビットポイント 口座開設だけで500円プレゼント  8月中限定で口座開設するとBTC1000...   \n",
       "594  RT @RektProof: $BTC / $USD\\n\\nCurrent gameplan...   \n",
       "595  Months later, $BTC is still on track. 🤝 https:...   \n",
       "\n",
       "                                               symbols  \n",
       "0                            [GE, DAL, CCL, TOPS, SPY]  \n",
       "1                                            [GE, SPX]  \n",
       "2                                              [HTSC,]  \n",
       "3    [gme, amc, mmat, bbig, cei, doge, any, kplt, m...  \n",
       "4    [gme, amc, mmat, bbig, cei, doge, any, kplt, m...  \n",
       "..                                                 ...  \n",
       "591                                                 []  \n",
       "592                                              [BTC]  \n",
       "593                                              [BTC]  \n",
       "594                                         [BTC, USD]  \n",
       "595                                              [BTC]  \n",
       "\n",
       "[596 rows x 3 columns]"
      ]
     },
     "execution_count": 29,
     "metadata": {},
     "output_type": "execute_result"
    }
   ],
   "source": [
    "final_df"
   ]
  },
  {
   "cell_type": "code",
   "execution_count": 30,
   "id": "b6a31a7f",
   "metadata": {},
   "outputs": [],
   "source": [
    "    name = {\n",
    "        \"bitcoin\": ['BTC'],\n",
    "        \"intel\": ['INTC'],\n",
    "        \"beyond_meat\": ['BYND'],\n",
    "        \"general_electric\": ['GE']\n",
    "    }"
   ]
  },
  {
   "cell_type": "code",
   "execution_count": 31,
   "id": "b506dcdf",
   "metadata": {},
   "outputs": [],
   "source": [
    "name = name['bitcoin']"
   ]
  },
  {
   "cell_type": "code",
   "execution_count": 32,
   "id": "e958fd13",
   "metadata": {},
   "outputs": [
    {
     "data": {
      "text/plain": [
       "['BTC']"
      ]
     },
     "execution_count": 32,
     "metadata": {},
     "output_type": "execute_result"
    }
   ],
   "source": [
    "name"
   ]
  },
  {
   "cell_type": "code",
   "execution_count": null,
   "id": "119aa5c8",
   "metadata": {},
   "outputs": [],
   "source": []
  }
 ],
 "metadata": {
  "kernelspec": {
   "display_name": "Python 3 (ipykernel)",
   "language": "python",
   "name": "python3"
  },
  "language_info": {
   "codemirror_mode": {
    "name": "ipython",
    "version": 3
   },
   "file_extension": ".py",
   "mimetype": "text/x-python",
   "name": "python",
   "nbconvert_exporter": "python",
   "pygments_lexer": "ipython3",
   "version": "3.8.6"
  },
  "toc": {
   "base_numbering": 1,
   "nav_menu": {},
   "number_sections": true,
   "sideBar": true,
   "skip_h1_title": false,
   "title_cell": "Table of Contents",
   "title_sidebar": "Contents",
   "toc_cell": false,
   "toc_position": {},
   "toc_section_display": true,
   "toc_window_display": false
  }
 },
 "nbformat": 4,
 "nbformat_minor": 5
}
